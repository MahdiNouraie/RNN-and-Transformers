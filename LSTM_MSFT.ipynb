{
  "nbformat": 4,
  "nbformat_minor": 0,
  "metadata": {
    "colab": {
      "name": "LSTM_MSFT.ipynb",
      "provenance": [],
      "authorship_tag": "ABX9TyPkiNdJqnUMfa1RDSCRgv0O",
      "include_colab_link": true
    },
    "kernelspec": {
      "name": "python3",
      "display_name": "Python 3"
    },
    "language_info": {
      "name": "python"
    },
    "accelerator": "GPU",
    "gpuClass": "standard"
  },
  "cells": [
    {
      "cell_type": "markdown",
      "metadata": {
        "id": "view-in-github",
        "colab_type": "text"
      },
      "source": [
        "<a href=\"https://colab.research.google.com/github/MahdiNouraie/RNN-and-Transformers/blob/main/LSTM_MSFT.ipynb\" target=\"_parent\"><img src=\"https://colab.research.google.com/assets/colab-badge.svg\" alt=\"Open In Colab\"/></a>"
      ]
    },
    {
      "cell_type": "code",
      "execution_count": 1,
      "metadata": {
        "id": "cU9kCcJSzANZ"
      },
      "outputs": [],
      "source": [
        "import tensorflow as tf\n",
        "import pandas as pd\n",
        "import numpy as np\n",
        "import matplotlib.pyplot as plt\n",
        "from sklearn.preprocessing import MinMaxScaler"
      ]
    },
    {
      "cell_type": "code",
      "source": [
        "! pip install yfinance"
      ],
      "metadata": {
        "id": "59G1geSizSkY"
      },
      "execution_count": null,
      "outputs": []
    },
    {
      "cell_type": "code",
      "source": [
        "import yfinance as yf"
      ],
      "metadata": {
        "id": "tv-ObF9lzZnH"
      },
      "execution_count": 3,
      "outputs": []
    },
    {
      "cell_type": "code",
      "source": [
        "ms = yf.download('MSFT' ,\n",
        "                            start = '2012-01-01',\n",
        "                            end = '2021-12-31',\n",
        "                            progress = False )\n",
        "df = ms[['Adj Close' , 'Open' , 'Close' , 'High' , 'Low' ]].round(3)\n",
        "df"
      ],
      "metadata": {
        "colab": {
          "base_uri": "https://localhost:8080/",
          "height": 455
        },
        "id": "Qvf9b0T8zSg8",
        "outputId": "f9597082-6e55-4da2-e57c-3ab635e89bb2"
      },
      "execution_count": 4,
      "outputs": [
        {
          "output_type": "execute_result",
          "data": {
            "text/plain": [
              "            Adj Close    Open   Close    High     Low\n",
              "Date                                                 \n",
              "2012-01-03     21.573   26.55   26.77   26.96   26.39\n",
              "2012-01-04     22.081   26.82   27.40   27.47   26.78\n",
              "2012-01-05     22.306   27.38   27.68   27.73   27.29\n",
              "2012-01-06     22.653   27.53   28.11   28.19   27.53\n",
              "2012-01-09     22.355   28.05   27.74   28.10   27.72\n",
              "...               ...     ...     ...     ...     ...\n",
              "2021-12-23    333.223  332.75  334.69  336.39  332.73\n",
              "2021-12-27    340.949  335.46  342.45  342.48  335.43\n",
              "2021-12-28    339.755  343.15  341.25  343.81  340.32\n",
              "2021-12-29    340.451  341.30  341.95  344.30  339.68\n",
              "2021-12-30    337.833  341.91  339.32  343.13  338.82\n",
              "\n",
              "[2516 rows x 5 columns]"
            ],
            "text/html": [
              "\n",
              "  <div id=\"df-aa084fe8-2d06-4494-a106-f315fda72542\">\n",
              "    <div class=\"colab-df-container\">\n",
              "      <div>\n",
              "<style scoped>\n",
              "    .dataframe tbody tr th:only-of-type {\n",
              "        vertical-align: middle;\n",
              "    }\n",
              "\n",
              "    .dataframe tbody tr th {\n",
              "        vertical-align: top;\n",
              "    }\n",
              "\n",
              "    .dataframe thead th {\n",
              "        text-align: right;\n",
              "    }\n",
              "</style>\n",
              "<table border=\"1\" class=\"dataframe\">\n",
              "  <thead>\n",
              "    <tr style=\"text-align: right;\">\n",
              "      <th></th>\n",
              "      <th>Adj Close</th>\n",
              "      <th>Open</th>\n",
              "      <th>Close</th>\n",
              "      <th>High</th>\n",
              "      <th>Low</th>\n",
              "    </tr>\n",
              "    <tr>\n",
              "      <th>Date</th>\n",
              "      <th></th>\n",
              "      <th></th>\n",
              "      <th></th>\n",
              "      <th></th>\n",
              "      <th></th>\n",
              "    </tr>\n",
              "  </thead>\n",
              "  <tbody>\n",
              "    <tr>\n",
              "      <th>2012-01-03</th>\n",
              "      <td>21.573</td>\n",
              "      <td>26.55</td>\n",
              "      <td>26.77</td>\n",
              "      <td>26.96</td>\n",
              "      <td>26.39</td>\n",
              "    </tr>\n",
              "    <tr>\n",
              "      <th>2012-01-04</th>\n",
              "      <td>22.081</td>\n",
              "      <td>26.82</td>\n",
              "      <td>27.40</td>\n",
              "      <td>27.47</td>\n",
              "      <td>26.78</td>\n",
              "    </tr>\n",
              "    <tr>\n",
              "      <th>2012-01-05</th>\n",
              "      <td>22.306</td>\n",
              "      <td>27.38</td>\n",
              "      <td>27.68</td>\n",
              "      <td>27.73</td>\n",
              "      <td>27.29</td>\n",
              "    </tr>\n",
              "    <tr>\n",
              "      <th>2012-01-06</th>\n",
              "      <td>22.653</td>\n",
              "      <td>27.53</td>\n",
              "      <td>28.11</td>\n",
              "      <td>28.19</td>\n",
              "      <td>27.53</td>\n",
              "    </tr>\n",
              "    <tr>\n",
              "      <th>2012-01-09</th>\n",
              "      <td>22.355</td>\n",
              "      <td>28.05</td>\n",
              "      <td>27.74</td>\n",
              "      <td>28.10</td>\n",
              "      <td>27.72</td>\n",
              "    </tr>\n",
              "    <tr>\n",
              "      <th>...</th>\n",
              "      <td>...</td>\n",
              "      <td>...</td>\n",
              "      <td>...</td>\n",
              "      <td>...</td>\n",
              "      <td>...</td>\n",
              "    </tr>\n",
              "    <tr>\n",
              "      <th>2021-12-23</th>\n",
              "      <td>333.223</td>\n",
              "      <td>332.75</td>\n",
              "      <td>334.69</td>\n",
              "      <td>336.39</td>\n",
              "      <td>332.73</td>\n",
              "    </tr>\n",
              "    <tr>\n",
              "      <th>2021-12-27</th>\n",
              "      <td>340.949</td>\n",
              "      <td>335.46</td>\n",
              "      <td>342.45</td>\n",
              "      <td>342.48</td>\n",
              "      <td>335.43</td>\n",
              "    </tr>\n",
              "    <tr>\n",
              "      <th>2021-12-28</th>\n",
              "      <td>339.755</td>\n",
              "      <td>343.15</td>\n",
              "      <td>341.25</td>\n",
              "      <td>343.81</td>\n",
              "      <td>340.32</td>\n",
              "    </tr>\n",
              "    <tr>\n",
              "      <th>2021-12-29</th>\n",
              "      <td>340.451</td>\n",
              "      <td>341.30</td>\n",
              "      <td>341.95</td>\n",
              "      <td>344.30</td>\n",
              "      <td>339.68</td>\n",
              "    </tr>\n",
              "    <tr>\n",
              "      <th>2021-12-30</th>\n",
              "      <td>337.833</td>\n",
              "      <td>341.91</td>\n",
              "      <td>339.32</td>\n",
              "      <td>343.13</td>\n",
              "      <td>338.82</td>\n",
              "    </tr>\n",
              "  </tbody>\n",
              "</table>\n",
              "<p>2516 rows × 5 columns</p>\n",
              "</div>\n",
              "      <button class=\"colab-df-convert\" onclick=\"convertToInteractive('df-aa084fe8-2d06-4494-a106-f315fda72542')\"\n",
              "              title=\"Convert this dataframe to an interactive table.\"\n",
              "              style=\"display:none;\">\n",
              "        \n",
              "  <svg xmlns=\"http://www.w3.org/2000/svg\" height=\"24px\"viewBox=\"0 0 24 24\"\n",
              "       width=\"24px\">\n",
              "    <path d=\"M0 0h24v24H0V0z\" fill=\"none\"/>\n",
              "    <path d=\"M18.56 5.44l.94 2.06.94-2.06 2.06-.94-2.06-.94-.94-2.06-.94 2.06-2.06.94zm-11 1L8.5 8.5l.94-2.06 2.06-.94-2.06-.94L8.5 2.5l-.94 2.06-2.06.94zm10 10l.94 2.06.94-2.06 2.06-.94-2.06-.94-.94-2.06-.94 2.06-2.06.94z\"/><path d=\"M17.41 7.96l-1.37-1.37c-.4-.4-.92-.59-1.43-.59-.52 0-1.04.2-1.43.59L10.3 9.45l-7.72 7.72c-.78.78-.78 2.05 0 2.83L4 21.41c.39.39.9.59 1.41.59.51 0 1.02-.2 1.41-.59l7.78-7.78 2.81-2.81c.8-.78.8-2.07 0-2.86zM5.41 20L4 18.59l7.72-7.72 1.47 1.35L5.41 20z\"/>\n",
              "  </svg>\n",
              "      </button>\n",
              "      \n",
              "  <style>\n",
              "    .colab-df-container {\n",
              "      display:flex;\n",
              "      flex-wrap:wrap;\n",
              "      gap: 12px;\n",
              "    }\n",
              "\n",
              "    .colab-df-convert {\n",
              "      background-color: #E8F0FE;\n",
              "      border: none;\n",
              "      border-radius: 50%;\n",
              "      cursor: pointer;\n",
              "      display: none;\n",
              "      fill: #1967D2;\n",
              "      height: 32px;\n",
              "      padding: 0 0 0 0;\n",
              "      width: 32px;\n",
              "    }\n",
              "\n",
              "    .colab-df-convert:hover {\n",
              "      background-color: #E2EBFA;\n",
              "      box-shadow: 0px 1px 2px rgba(60, 64, 67, 0.3), 0px 1px 3px 1px rgba(60, 64, 67, 0.15);\n",
              "      fill: #174EA6;\n",
              "    }\n",
              "\n",
              "    [theme=dark] .colab-df-convert {\n",
              "      background-color: #3B4455;\n",
              "      fill: #D2E3FC;\n",
              "    }\n",
              "\n",
              "    [theme=dark] .colab-df-convert:hover {\n",
              "      background-color: #434B5C;\n",
              "      box-shadow: 0px 1px 3px 1px rgba(0, 0, 0, 0.15);\n",
              "      filter: drop-shadow(0px 1px 2px rgba(0, 0, 0, 0.3));\n",
              "      fill: #FFFFFF;\n",
              "    }\n",
              "  </style>\n",
              "\n",
              "      <script>\n",
              "        const buttonEl =\n",
              "          document.querySelector('#df-aa084fe8-2d06-4494-a106-f315fda72542 button.colab-df-convert');\n",
              "        buttonEl.style.display =\n",
              "          google.colab.kernel.accessAllowed ? 'block' : 'none';\n",
              "\n",
              "        async function convertToInteractive(key) {\n",
              "          const element = document.querySelector('#df-aa084fe8-2d06-4494-a106-f315fda72542');\n",
              "          const dataTable =\n",
              "            await google.colab.kernel.invokeFunction('convertToInteractive',\n",
              "                                                     [key], {});\n",
              "          if (!dataTable) return;\n",
              "\n",
              "          const docLinkHtml = 'Like what you see? Visit the ' +\n",
              "            '<a target=\"_blank\" href=https://colab.research.google.com/notebooks/data_table.ipynb>data table notebook</a>'\n",
              "            + ' to learn more about interactive tables.';\n",
              "          element.innerHTML = '';\n",
              "          dataTable['output_type'] = 'display_data';\n",
              "          await google.colab.output.renderOutput(dataTable, element);\n",
              "          const docLink = document.createElement('div');\n",
              "          docLink.innerHTML = docLinkHtml;\n",
              "          element.appendChild(docLink);\n",
              "        }\n",
              "      </script>\n",
              "    </div>\n",
              "  </div>\n",
              "  "
            ]
          },
          "metadata": {},
          "execution_count": 4
        }
      ]
    },
    {
      "cell_type": "code",
      "source": [
        "df.Close.plot(color = 'red')"
      ],
      "metadata": {
        "colab": {
          "base_uri": "https://localhost:8080/",
          "height": 288
        },
        "id": "3-uIHMIgzSdv",
        "outputId": "32867069-e063-4f1c-defe-951b961c35a3"
      },
      "execution_count": 5,
      "outputs": [
        {
          "output_type": "execute_result",
          "data": {
            "text/plain": [
              "<matplotlib.axes._subplots.AxesSubplot at 0x7f4d2e9c6290>"
            ]
          },
          "metadata": {},
          "execution_count": 5
        },
        {
          "output_type": "display_data",
          "data": {
            "text/plain": [
              "<Figure size 432x288 with 1 Axes>"
            ],
            "image/png": "[encoded data removed]"
          },
          "metadata": {
            "needs_background": "light"
          }
        }
      ]
    },
    {
      "cell_type": "code",
      "source": [
        "def ts_data(df , X_steps , y_steps):\n",
        "  train_df = df[:'2020'].Close.values.reshape(-1,1)\n",
        "  test_df = df['2021':].Close.values.reshape(-1,1)\n",
        "\n",
        "  sc = MinMaxScaler(feature_range = (0,1))\n",
        "  train_df_scaled = sc.fit_transform(train_df)\n",
        "\n",
        "  X_train = []\n",
        "  y_train = []\n",
        "  for i in range(X_steps , len(train_df_scaled) - 1):\n",
        "    X_train.append(train_df_scaled[i - X_steps : i , 0])\n",
        "    y_train.append(train_df_scaled[i : i + y_steps , 0])\n",
        "  X_train = np.array(X_train)\n",
        "  y_train = np.array(y_train)\n",
        "\n",
        "  X_train = X_train.reshape(X_train.shape[0] , X_train.shape[1] , 1)\n",
        "\n",
        "  X = df.Close.values\n",
        "  X = X[len(X) - len(test_df) - X_steps : ]\n",
        "  X = X.reshape(-1,1)\n",
        "  X = sc.fit_transform(X)\n",
        "\n",
        "  X_test = []\n",
        "  y_test = []\n",
        "  for i in range(X_steps , len(test_df) + X_steps - y_steps):\n",
        "    X_test.append(X[i - X_steps : i , 0])\n",
        "    y_test.append(X[i : i + y_steps , 0])\n",
        "\n",
        "  X_test = np.array(X_test)\n",
        "  X_test = X_test.reshape(X_test.shape[0] , X_test.shape[1] , 1)\n",
        "  y_test = np.array(y_test)\n",
        "\n",
        "  return X_train , y_train , X_test , y_test, sc"
      ],
      "metadata": {
        "id": "9ipnWtQBzdK5"
      },
      "execution_count": 6,
      "outputs": []
    },
    {
      "cell_type": "code",
      "source": [
        "X_train , y_train , X_test , y_test , sc = ts_data(df , 6 , 2)"
      ],
      "metadata": {
        "id": "F-K6uiEezdHf"
      },
      "execution_count": 7,
      "outputs": []
    },
    {
      "cell_type": "markdown",
      "source": [
        "#LSTM"
      ],
      "metadata": {
        "id": "fJBvPdtXzmxu"
      }
    },
    {
      "cell_type": "code",
      "source": [
        "from keras.models import Sequential\n",
        "from keras.layers import Dense, LSTM"
      ],
      "metadata": {
        "id": "_cxaVbIjzdDQ"
      },
      "execution_count": 8,
      "outputs": []
    },
    {
      "cell_type": "code",
      "source": [
        "lstm= Sequential([\n",
        "                               LSTM(50 , return_sequences = True),\n",
        "                               LSTM(50),\n",
        "                               Dense(2)\n",
        "                            ])"
      ],
      "metadata": {
        "id": "iADH_2qhzk1C"
      },
      "execution_count": 9,
      "outputs": []
    },
    {
      "cell_type": "code",
      "source": [
        "lstm.compile(optimizer = 'Adam' , loss = 'mean_squared_error')"
      ],
      "metadata": {
        "id": "ub8hN_26zkx4"
      },
      "execution_count": 11,
      "outputs": []
    },
    {
      "cell_type": "code",
      "source": [
        "lstm.fit(X_train , y_train , epochs = 100 , validation_split = 0.15)"
      ],
      "metadata": {
        "colab": {
          "base_uri": "https://localhost:8080/"
        },
        "id": "1r75hjOhzkvX",
        "outputId": "a0d284c6-3a93-48b6-e10a-b2b2f3dbb32d"
      },
      "execution_count": 12,
      "outputs": [
        {
          "output_type": "stream",
          "name": "stdout",
          "text": [
            "Epoch 1/100\n",
            "60/60 [==============================] - 11s 19ms/step - loss: 0.0078 - val_loss: 0.0094\n",
            "Epoch 2/100\n",
            "60/60 [==============================] - 0s 5ms/step - loss: 1.1878e-04 - val_loss: 0.0039\n",
            "Epoch 3/100\n",
            "60/60 [==============================] - 0s 6ms/step - loss: 8.7789e-05 - val_loss: 0.0013\n",
            "Epoch 4/100\n",
            "60/60 [==============================] - 0s 6ms/step - loss: 7.3123e-05 - val_loss: 0.0011\n",
            "Epoch 5/100\n",
            "60/60 [==============================] - 0s 5ms/step - loss: 7.0437e-05 - val_loss: 0.0012\n",
            "Epoch 6/100\n",
            "60/60 [==============================] - 0s 6ms/step - loss: 6.7548e-05 - val_loss: 0.0013\n",
            "Epoch 7/100\n",
            "60/60 [==============================] - 0s 6ms/step - loss: 7.3208e-05 - val_loss: 0.0012\n",
            "Epoch 8/100\n",
            "60/60 [==============================] - 0s 6ms/step - loss: 8.9336e-05 - val_loss: 0.0014\n",
            "Epoch 9/100\n",
            "60/60 [==============================] - 0s 6ms/step - loss: 6.8259e-05 - val_loss: 0.0013\n",
            "Epoch 10/100\n",
            "60/60 [==============================] - 0s 6ms/step - loss: 7.3280e-05 - val_loss: 0.0015\n",
            "Epoch 11/100\n",
            "60/60 [==============================] - 0s 6ms/step - loss: 6.8830e-05 - val_loss: 0.0012\n",
            "Epoch 12/100\n",
            "60/60 [==============================] - 0s 6ms/step - loss: 8.1554e-05 - val_loss: 0.0015\n",
            "Epoch 13/100\n",
            "60/60 [==============================] - 0s 5ms/step - loss: 6.7789e-05 - val_loss: 0.0012\n",
            "Epoch 14/100\n",
            "60/60 [==============================] - 0s 6ms/step - loss: 6.7872e-05 - val_loss: 0.0010\n",
            "Epoch 15/100\n",
            "60/60 [==============================] - 0s 6ms/step - loss: 6.7147e-05 - val_loss: 0.0012\n",
            "Epoch 16/100\n",
            "60/60 [==============================] - 0s 5ms/step - loss: 6.9335e-05 - val_loss: 0.0022\n",
            "Epoch 17/100\n",
            "60/60 [==============================] - 0s 6ms/step - loss: 7.2494e-05 - val_loss: 0.0015\n",
            "Epoch 18/100\n",
            "60/60 [==============================] - 0s 6ms/step - loss: 7.4455e-05 - val_loss: 0.0013\n",
            "Epoch 19/100\n",
            "60/60 [==============================] - 0s 5ms/step - loss: 6.7380e-05 - val_loss: 0.0012\n",
            "Epoch 20/100\n",
            "60/60 [==============================] - 0s 6ms/step - loss: 7.3254e-05 - val_loss: 0.0012\n",
            "Epoch 21/100\n",
            "60/60 [==============================] - 0s 6ms/step - loss: 6.9482e-05 - val_loss: 0.0010\n",
            "Epoch 22/100\n",
            "60/60 [==============================] - 0s 6ms/step - loss: 6.8001e-05 - val_loss: 0.0011\n",
            "Epoch 23/100\n",
            "60/60 [==============================] - 0s 6ms/step - loss: 6.6826e-05 - val_loss: 0.0012\n",
            "Epoch 24/100\n",
            "60/60 [==============================] - 0s 5ms/step - loss: 8.3977e-05 - val_loss: 0.0026\n",
            "Epoch 25/100\n",
            "60/60 [==============================] - 0s 5ms/step - loss: 7.6232e-05 - val_loss: 0.0011\n",
            "Epoch 26/100\n",
            "60/60 [==============================] - 0s 5ms/step - loss: 7.1562e-05 - val_loss: 0.0010\n",
            "Epoch 27/100\n",
            "60/60 [==============================] - 0s 5ms/step - loss: 6.8536e-05 - val_loss: 0.0012\n",
            "Epoch 28/100\n",
            "60/60 [==============================] - 0s 5ms/step - loss: 7.1096e-05 - val_loss: 0.0018\n",
            "Epoch 29/100\n",
            "60/60 [==============================] - 0s 6ms/step - loss: 7.7193e-05 - val_loss: 0.0010\n",
            "Epoch 30/100\n",
            "60/60 [==============================] - 0s 5ms/step - loss: 7.1588e-05 - val_loss: 0.0019\n",
            "Epoch 31/100\n",
            "60/60 [==============================] - 0s 6ms/step - loss: 9.3471e-05 - val_loss: 0.0012\n",
            "Epoch 32/100\n",
            "60/60 [==============================] - 0s 5ms/step - loss: 6.6724e-05 - val_loss: 0.0012\n",
            "Epoch 33/100\n",
            "60/60 [==============================] - 0s 6ms/step - loss: 7.1607e-05 - val_loss: 0.0010\n",
            "Epoch 34/100\n",
            "60/60 [==============================] - 0s 6ms/step - loss: 6.9130e-05 - val_loss: 0.0013\n",
            "Epoch 35/100\n",
            "60/60 [==============================] - 0s 6ms/step - loss: 6.7505e-05 - val_loss: 0.0011\n",
            "Epoch 36/100\n",
            "60/60 [==============================] - 0s 6ms/step - loss: 6.4510e-05 - val_loss: 0.0010\n",
            "Epoch 37/100\n",
            "60/60 [==============================] - 0s 7ms/step - loss: 7.5282e-05 - val_loss: 0.0014\n",
            "Epoch 38/100\n",
            "60/60 [==============================] - 1s 11ms/step - loss: 7.2314e-05 - val_loss: 0.0013\n",
            "Epoch 39/100\n",
            "60/60 [==============================] - 1s 9ms/step - loss: 6.9800e-05 - val_loss: 0.0018\n",
            "Epoch 40/100\n",
            "60/60 [==============================] - 1s 11ms/step - loss: 6.5568e-05 - val_loss: 9.1957e-04\n",
            "Epoch 41/100\n",
            "60/60 [==============================] - 1s 11ms/step - loss: 6.6378e-05 - val_loss: 0.0012\n",
            "Epoch 42/100\n",
            "60/60 [==============================] - 1s 10ms/step - loss: 6.8402e-05 - val_loss: 0.0016\n",
            "Epoch 43/100\n",
            "60/60 [==============================] - 1s 10ms/step - loss: 8.4145e-05 - val_loss: 0.0015\n",
            "Epoch 44/100\n",
            "60/60 [==============================] - 1s 8ms/step - loss: 6.5385e-05 - val_loss: 0.0010\n",
            "Epoch 45/100\n",
            "60/60 [==============================] - 0s 7ms/step - loss: 6.5894e-05 - val_loss: 0.0011\n",
            "Epoch 46/100\n",
            "60/60 [==============================] - 1s 9ms/step - loss: 6.7903e-05 - val_loss: 0.0013\n",
            "Epoch 47/100\n",
            "60/60 [==============================] - 1s 9ms/step - loss: 6.7948e-05 - val_loss: 0.0015\n",
            "Epoch 48/100\n",
            "60/60 [==============================] - 1s 9ms/step - loss: 7.1369e-05 - val_loss: 9.4607e-04\n",
            "Epoch 49/100\n",
            "60/60 [==============================] - 0s 7ms/step - loss: 6.3439e-05 - val_loss: 9.5043e-04\n",
            "Epoch 50/100\n",
            "60/60 [==============================] - 1s 9ms/step - loss: 6.4330e-05 - val_loss: 9.9465e-04\n",
            "Epoch 51/100\n",
            "60/60 [==============================] - 1s 9ms/step - loss: 6.2342e-05 - val_loss: 0.0011\n",
            "Epoch 52/100\n",
            "60/60 [==============================] - 0s 8ms/step - loss: 6.1875e-05 - val_loss: 0.0013\n",
            "Epoch 53/100\n",
            "60/60 [==============================] - 0s 5ms/step - loss: 6.5628e-05 - val_loss: 8.7931e-04\n",
            "Epoch 54/100\n",
            "60/60 [==============================] - 0s 5ms/step - loss: 7.5379e-05 - val_loss: 8.5159e-04\n",
            "Epoch 55/100\n",
            "60/60 [==============================] - 0s 5ms/step - loss: 6.5103e-05 - val_loss: 0.0016\n",
            "Epoch 56/100\n",
            "60/60 [==============================] - 0s 7ms/step - loss: 6.9682e-05 - val_loss: 8.4668e-04\n",
            "Epoch 57/100\n",
            "60/60 [==============================] - 0s 7ms/step - loss: 6.1491e-05 - val_loss: 0.0018\n",
            "Epoch 58/100\n",
            "60/60 [==============================] - 1s 9ms/step - loss: 6.1418e-05 - val_loss: 0.0011\n",
            "Epoch 59/100\n",
            "60/60 [==============================] - 1s 8ms/step - loss: 5.9711e-05 - val_loss: 9.8407e-04\n",
            "Epoch 60/100\n",
            "60/60 [==============================] - 1s 8ms/step - loss: 6.1011e-05 - val_loss: 8.4675e-04\n",
            "Epoch 61/100\n",
            "60/60 [==============================] - 1s 9ms/step - loss: 5.9554e-05 - val_loss: 8.3542e-04\n",
            "Epoch 62/100\n",
            "60/60 [==============================] - 1s 10ms/step - loss: 7.3789e-05 - val_loss: 0.0012\n",
            "Epoch 63/100\n",
            "60/60 [==============================] - 1s 9ms/step - loss: 6.6070e-05 - val_loss: 0.0016\n",
            "Epoch 64/100\n",
            "60/60 [==============================] - 1s 9ms/step - loss: 6.4439e-05 - val_loss: 0.0017\n",
            "Epoch 65/100\n",
            "60/60 [==============================] - 1s 10ms/step - loss: 7.0283e-05 - val_loss: 9.6938e-04\n",
            "Epoch 66/100\n",
            "60/60 [==============================] - 0s 8ms/step - loss: 6.1743e-05 - val_loss: 7.7420e-04\n",
            "Epoch 67/100\n",
            "60/60 [==============================] - 1s 9ms/step - loss: 6.1494e-05 - val_loss: 9.2454e-04\n",
            "Epoch 68/100\n",
            "60/60 [==============================] - 1s 9ms/step - loss: 6.0365e-05 - val_loss: 7.4369e-04\n",
            "Epoch 69/100\n",
            "60/60 [==============================] - 1s 9ms/step - loss: 5.7696e-05 - val_loss: 8.4752e-04\n",
            "Epoch 70/100\n",
            "60/60 [==============================] - 1s 9ms/step - loss: 5.7296e-05 - val_loss: 8.8445e-04\n",
            "Epoch 71/100\n",
            "60/60 [==============================] - 1s 9ms/step - loss: 5.4486e-05 - val_loss: 9.8281e-04\n",
            "Epoch 72/100\n",
            "60/60 [==============================] - 1s 9ms/step - loss: 6.0092e-05 - val_loss: 8.5051e-04\n",
            "Epoch 73/100\n",
            "60/60 [==============================] - 0s 8ms/step - loss: 6.7313e-05 - val_loss: 8.2683e-04\n",
            "Epoch 74/100\n",
            "60/60 [==============================] - 0s 6ms/step - loss: 6.6590e-05 - val_loss: 0.0014\n",
            "Epoch 75/100\n",
            "60/60 [==============================] - 0s 6ms/step - loss: 5.6881e-05 - val_loss: 9.9146e-04\n",
            "Epoch 76/100\n",
            "60/60 [==============================] - 1s 8ms/step - loss: 6.1884e-05 - val_loss: 0.0012\n",
            "Epoch 77/100\n",
            "60/60 [==============================] - 1s 9ms/step - loss: 6.1780e-05 - val_loss: 7.8200e-04\n",
            "Epoch 78/100\n",
            "60/60 [==============================] - 0s 7ms/step - loss: 5.5245e-05 - val_loss: 0.0012\n",
            "Epoch 79/100\n",
            "60/60 [==============================] - 0s 7ms/step - loss: 5.7265e-05 - val_loss: 6.6000e-04\n",
            "Epoch 80/100\n",
            "60/60 [==============================] - 0s 8ms/step - loss: 5.9444e-05 - val_loss: 0.0011\n",
            "Epoch 81/100\n",
            "60/60 [==============================] - 0s 8ms/step - loss: 5.4561e-05 - val_loss: 8.7557e-04\n",
            "Epoch 82/100\n",
            "60/60 [==============================] - 1s 9ms/step - loss: 5.4932e-05 - val_loss: 8.7844e-04\n",
            "Epoch 83/100\n",
            "60/60 [==============================] - 0s 8ms/step - loss: 5.9327e-05 - val_loss: 6.7671e-04\n",
            "Epoch 84/100\n",
            "60/60 [==============================] - 1s 9ms/step - loss: 6.0583e-05 - val_loss: 0.0012\n",
            "Epoch 85/100\n",
            "60/60 [==============================] - 1s 10ms/step - loss: 5.3845e-05 - val_loss: 6.4740e-04\n",
            "Epoch 86/100\n",
            "60/60 [==============================] - 1s 9ms/step - loss: 5.2822e-05 - val_loss: 6.3951e-04\n",
            "Epoch 87/100\n",
            "60/60 [==============================] - 1s 9ms/step - loss: 6.0099e-05 - val_loss: 8.8043e-04\n",
            "Epoch 88/100\n",
            "60/60 [==============================] - 1s 9ms/step - loss: 4.9475e-05 - val_loss: 7.2298e-04\n",
            "Epoch 89/100\n",
            "60/60 [==============================] - 0s 6ms/step - loss: 5.0215e-05 - val_loss: 8.8910e-04\n",
            "Epoch 90/100\n",
            "60/60 [==============================] - 0s 6ms/step - loss: 6.4921e-05 - val_loss: 6.5622e-04\n",
            "Epoch 91/100\n",
            "60/60 [==============================] - 0s 6ms/step - loss: 5.1509e-05 - val_loss: 6.4953e-04\n",
            "Epoch 92/100\n",
            "60/60 [==============================] - 0s 5ms/step - loss: 5.0964e-05 - val_loss: 0.0012\n",
            "Epoch 93/100\n",
            "60/60 [==============================] - 0s 6ms/step - loss: 5.1816e-05 - val_loss: 7.7313e-04\n",
            "Epoch 94/100\n",
            "60/60 [==============================] - 0s 6ms/step - loss: 4.8954e-05 - val_loss: 6.7919e-04\n",
            "Epoch 95/100\n",
            "60/60 [==============================] - 0s 6ms/step - loss: 4.7533e-05 - val_loss: 7.8832e-04\n",
            "Epoch 96/100\n",
            "60/60 [==============================] - 0s 7ms/step - loss: 5.1653e-05 - val_loss: 8.7823e-04\n",
            "Epoch 97/100\n",
            "60/60 [==============================] - 0s 6ms/step - loss: 4.8575e-05 - val_loss: 6.0360e-04\n",
            "Epoch 98/100\n",
            "60/60 [==============================] - 0s 6ms/step - loss: 4.4475e-05 - val_loss: 7.4031e-04\n",
            "Epoch 99/100\n",
            "60/60 [==============================] - 0s 6ms/step - loss: 5.6362e-05 - val_loss: 8.0589e-04\n",
            "Epoch 100/100\n",
            "60/60 [==============================] - 0s 6ms/step - loss: 4.7762e-05 - val_loss: 5.5291e-04\n"
          ]
        },
        {
          "output_type": "execute_result",
          "data": {
            "text/plain": [
              "<keras.callbacks.History at 0x7f4cb20b1310>"
            ]
          },
          "metadata": {},
          "execution_count": 12
        }
      ]
    },
    {
      "cell_type": "code",
      "source": [
        "lstm_pred = lstm.predict(X_test)"
      ],
      "metadata": {
        "id": "KW8GBV3e0G5Z"
      },
      "execution_count": 13,
      "outputs": []
    },
    {
      "cell_type": "code",
      "source": [
        "def prediction_plot(predictions):\n",
        "  fig , ax = plt.subplots()\n",
        "  ax.plot(df['2021': ].index[: len(y_test)] , sc.inverse_transform(y_test[: , 0].reshape(-1,1)) , label = 'real')\n",
        "  ax.plot(df['2021': ].index[: len(y_test)] , sc.inverse_transform(predictions[: , 0].reshape(-1,1)) , label = 'prediction')"
      ],
      "metadata": {
        "id": "-Y2xZRVy0G23"
      },
      "execution_count": 14,
      "outputs": []
    },
    {
      "cell_type": "code",
      "source": [
        "prediction_plot(lstm_pred)"
      ],
      "metadata": {
        "colab": {
          "base_uri": "https://localhost:8080/",
          "height": 265
        },
        "id": "fwW8IQ8l0XIF",
        "outputId": "1516c1ea-2bef-4fda-e55c-d9212ad18b85"
      },
      "execution_count": 15,
      "outputs": [
        {
          "output_type": "display_data",
          "data": {
            "text/plain": [
              "<Figure size 432x288 with 1 Axes>"
            ],
            "image/png": "[encoded data removed]"
          },
          "metadata": {
            "needs_background": "light"
          }
        }
      ]
    }
  ]
}