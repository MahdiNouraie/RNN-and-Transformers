{
  "nbformat": 4,
  "nbformat_minor": 0,
  "metadata": {
    "colab": {
      "name": "Simple_RNN_MSFT.ipynb",
      "provenance": [],
      "authorship_tag": "ABX9TyOxqEO3OsGQxsCpLS9QXBlr",
      "include_colab_link": true
    },
    "kernelspec": {
      "name": "python3",
      "display_name": "Python 3"
    },
    "language_info": {
      "name": "python"
    },
    "accelerator": "GPU",
    "gpuClass": "standard"
  },
  "cells": [
    {
      "cell_type": "markdown",
      "metadata": {
        "id": "view-in-github",
        "colab_type": "text"
      },
      "source": [
        "<a href=\"https://colab.research.google.com/github/MahdiNouraie/Advanced-RNN/blob/main/Simple_RNN_MSFT.ipynb\" target=\"_parent\"><img src=\"https://colab.research.google.com/assets/colab-badge.svg\" alt=\"Open In Colab\"/></a>"
      ]
    },
    {
      "cell_type": "code",
      "execution_count": 1,
      "metadata": {
        "id": "25GEd_6jvgJd"
      },
      "outputs": [],
      "source": [
        "import tensorflow as tf\n",
        "import pandas as pd\n",
        "import numpy as np\n",
        "import matplotlib.pyplot as plt\n",
        "from sklearn.preprocessing import MinMaxScaler"
      ]
    },
    {
      "cell_type": "code",
      "source": [
        "! pip install yfinance"
      ],
      "metadata": {
        "id": "YzsseYHvvjAl"
      },
      "execution_count": null,
      "outputs": []
    },
    {
      "cell_type": "code",
      "source": [
        "import yfinance as yf"
      ],
      "metadata": {
        "id": "eiNBBeK-viyq"
      },
      "execution_count": 3,
      "outputs": []
    },
    {
      "cell_type": "code",
      "source": [
        "ms = yf.download('MSFT' ,\n",
        "                            start = '2012-01-01',\n",
        "                            end = '2021-12-31',\n",
        "                            progress = False )\n",
        "df = ms[['Adj Close' , 'Open' , 'Close' , 'High' , 'Low' ]].round(3)\n",
        "df"
      ],
      "metadata": {
        "colab": {
          "base_uri": "https://localhost:8080/",
          "height": 455
        },
        "id": "2xPojkguviwe",
        "outputId": "1cda183b-30ae-4161-cfb3-b9c85fcb478f"
      },
      "execution_count": 4,
      "outputs": [
        {
          "output_type": "execute_result",
          "data": {
            "text/plain": [
              "            Adj Close    Open   Close    High     Low\n",
              "Date                                                 \n",
              "2012-01-03     21.573   26.55   26.77   26.96   26.39\n",
              "2012-01-04     22.081   26.82   27.40   27.47   26.78\n",
              "2012-01-05     22.306   27.38   27.68   27.73   27.29\n",
              "2012-01-06     22.653   27.53   28.11   28.19   27.53\n",
              "2012-01-09     22.355   28.05   27.74   28.10   27.72\n",
              "...               ...     ...     ...     ...     ...\n",
              "2021-12-23    333.223  332.75  334.69  336.39  332.73\n",
              "2021-12-27    340.949  335.46  342.45  342.48  335.43\n",
              "2021-12-28    339.755  343.15  341.25  343.81  340.32\n",
              "2021-12-29    340.451  341.30  341.95  344.30  339.68\n",
              "2021-12-30    337.833  341.91  339.32  343.13  338.82\n",
              "\n",
              "[2516 rows x 5 columns]"
            ],
            "text/html": [
              "\n",
              "  <div id=\"df-035e3b41-71c7-4749-85b1-fb2879977071\">\n",
              "    <div class=\"colab-df-container\">\n",
              "      <div>\n",
              "<style scoped>\n",
              "    .dataframe tbody tr th:only-of-type {\n",
              "        vertical-align: middle;\n",
              "    }\n",
              "\n",
              "    .dataframe tbody tr th {\n",
              "        vertical-align: top;\n",
              "    }\n",
              "\n",
              "    .dataframe thead th {\n",
              "        text-align: right;\n",
              "    }\n",
              "</style>\n",
              "<table border=\"1\" class=\"dataframe\">\n",
              "  <thead>\n",
              "    <tr style=\"text-align: right;\">\n",
              "      <th></th>\n",
              "      <th>Adj Close</th>\n",
              "      <th>Open</th>\n",
              "      <th>Close</th>\n",
              "      <th>High</th>\n",
              "      <th>Low</th>\n",
              "    </tr>\n",
              "    <tr>\n",
              "      <th>Date</th>\n",
              "      <th></th>\n",
              "      <th></th>\n",
              "      <th></th>\n",
              "      <th></th>\n",
              "      <th></th>\n",
              "    </tr>\n",
              "  </thead>\n",
              "  <tbody>\n",
              "    <tr>\n",
              "      <th>2012-01-03</th>\n",
              "      <td>21.573</td>\n",
              "      <td>26.55</td>\n",
              "      <td>26.77</td>\n",
              "      <td>26.96</td>\n",
              "      <td>26.39</td>\n",
              "    </tr>\n",
              "    <tr>\n",
              "      <th>2012-01-04</th>\n",
              "      <td>22.081</td>\n",
              "      <td>26.82</td>\n",
              "      <td>27.40</td>\n",
              "      <td>27.47</td>\n",
              "      <td>26.78</td>\n",
              "    </tr>\n",
              "    <tr>\n",
              "      <th>2012-01-05</th>\n",
              "      <td>22.306</td>\n",
              "      <td>27.38</td>\n",
              "      <td>27.68</td>\n",
              "      <td>27.73</td>\n",
              "      <td>27.29</td>\n",
              "    </tr>\n",
              "    <tr>\n",
              "      <th>2012-01-06</th>\n",
              "      <td>22.653</td>\n",
              "      <td>27.53</td>\n",
              "      <td>28.11</td>\n",
              "      <td>28.19</td>\n",
              "      <td>27.53</td>\n",
              "    </tr>\n",
              "    <tr>\n",
              "      <th>2012-01-09</th>\n",
              "      <td>22.355</td>\n",
              "      <td>28.05</td>\n",
              "      <td>27.74</td>\n",
              "      <td>28.10</td>\n",
              "      <td>27.72</td>\n",
              "    </tr>\n",
              "    <tr>\n",
              "      <th>...</th>\n",
              "      <td>...</td>\n",
              "      <td>...</td>\n",
              "      <td>...</td>\n",
              "      <td>...</td>\n",
              "      <td>...</td>\n",
              "    </tr>\n",
              "    <tr>\n",
              "      <th>2021-12-23</th>\n",
              "      <td>333.223</td>\n",
              "      <td>332.75</td>\n",
              "      <td>334.69</td>\n",
              "      <td>336.39</td>\n",
              "      <td>332.73</td>\n",
              "    </tr>\n",
              "    <tr>\n",
              "      <th>2021-12-27</th>\n",
              "      <td>340.949</td>\n",
              "      <td>335.46</td>\n",
              "      <td>342.45</td>\n",
              "      <td>342.48</td>\n",
              "      <td>335.43</td>\n",
              "    </tr>\n",
              "    <tr>\n",
              "      <th>2021-12-28</th>\n",
              "      <td>339.755</td>\n",
              "      <td>343.15</td>\n",
              "      <td>341.25</td>\n",
              "      <td>343.81</td>\n",
              "      <td>340.32</td>\n",
              "    </tr>\n",
              "    <tr>\n",
              "      <th>2021-12-29</th>\n",
              "      <td>340.451</td>\n",
              "      <td>341.30</td>\n",
              "      <td>341.95</td>\n",
              "      <td>344.30</td>\n",
              "      <td>339.68</td>\n",
              "    </tr>\n",
              "    <tr>\n",
              "      <th>2021-12-30</th>\n",
              "      <td>337.833</td>\n",
              "      <td>341.91</td>\n",
              "      <td>339.32</td>\n",
              "      <td>343.13</td>\n",
              "      <td>338.82</td>\n",
              "    </tr>\n",
              "  </tbody>\n",
              "</table>\n",
              "<p>2516 rows × 5 columns</p>\n",
              "</div>\n",
              "      <button class=\"colab-df-convert\" onclick=\"convertToInteractive('df-035e3b41-71c7-4749-85b1-fb2879977071')\"\n",
              "              title=\"Convert this dataframe to an interactive table.\"\n",
              "              style=\"display:none;\">\n",
              "        \n",
              "  <svg xmlns=\"http://www.w3.org/2000/svg\" height=\"24px\"viewBox=\"0 0 24 24\"\n",
              "       width=\"24px\">\n",
              "    <path d=\"M0 0h24v24H0V0z\" fill=\"none\"/>\n",
              "    <path d=\"M18.56 5.44l.94 2.06.94-2.06 2.06-.94-2.06-.94-.94-2.06-.94 2.06-2.06.94zm-11 1L8.5 8.5l.94-2.06 2.06-.94-2.06-.94L8.5 2.5l-.94 2.06-2.06.94zm10 10l.94 2.06.94-2.06 2.06-.94-2.06-.94-.94-2.06-.94 2.06-2.06.94z\"/><path d=\"M17.41 7.96l-1.37-1.37c-.4-.4-.92-.59-1.43-.59-.52 0-1.04.2-1.43.59L10.3 9.45l-7.72 7.72c-.78.78-.78 2.05 0 2.83L4 21.41c.39.39.9.59 1.41.59.51 0 1.02-.2 1.41-.59l7.78-7.78 2.81-2.81c.8-.78.8-2.07 0-2.86zM5.41 20L4 18.59l7.72-7.72 1.47 1.35L5.41 20z\"/>\n",
              "  </svg>\n",
              "      </button>\n",
              "      \n",
              "  <style>\n",
              "    .colab-df-container {\n",
              "      display:flex;\n",
              "      flex-wrap:wrap;\n",
              "      gap: 12px;\n",
              "    }\n",
              "\n",
              "    .colab-df-convert {\n",
              "      background-color: #E8F0FE;\n",
              "      border: none;\n",
              "      border-radius: 50%;\n",
              "      cursor: pointer;\n",
              "      display: none;\n",
              "      fill: #1967D2;\n",
              "      height: 32px;\n",
              "      padding: 0 0 0 0;\n",
              "      width: 32px;\n",
              "    }\n",
              "\n",
              "    .colab-df-convert:hover {\n",
              "      background-color: #E2EBFA;\n",
              "      box-shadow: 0px 1px 2px rgba(60, 64, 67, 0.3), 0px 1px 3px 1px rgba(60, 64, 67, 0.15);\n",
              "      fill: #174EA6;\n",
              "    }\n",
              "\n",
              "    [theme=dark] .colab-df-convert {\n",
              "      background-color: #3B4455;\n",
              "      fill: #D2E3FC;\n",
              "    }\n",
              "\n",
              "    [theme=dark] .colab-df-convert:hover {\n",
              "      background-color: #434B5C;\n",
              "      box-shadow: 0px 1px 3px 1px rgba(0, 0, 0, 0.15);\n",
              "      filter: drop-shadow(0px 1px 2px rgba(0, 0, 0, 0.3));\n",
              "      fill: #FFFFFF;\n",
              "    }\n",
              "  </style>\n",
              "\n",
              "      <script>\n",
              "        const buttonEl =\n",
              "          document.querySelector('#df-035e3b41-71c7-4749-85b1-fb2879977071 button.colab-df-convert');\n",
              "        buttonEl.style.display =\n",
              "          google.colab.kernel.accessAllowed ? 'block' : 'none';\n",
              "\n",
              "        async function convertToInteractive(key) {\n",
              "          const element = document.querySelector('#df-035e3b41-71c7-4749-85b1-fb2879977071');\n",
              "          const dataTable =\n",
              "            await google.colab.kernel.invokeFunction('convertToInteractive',\n",
              "                                                     [key], {});\n",
              "          if (!dataTable) return;\n",
              "\n",
              "          const docLinkHtml = 'Like what you see? Visit the ' +\n",
              "            '<a target=\"_blank\" href=https://colab.research.google.com/notebooks/data_table.ipynb>data table notebook</a>'\n",
              "            + ' to learn more about interactive tables.';\n",
              "          element.innerHTML = '';\n",
              "          dataTable['output_type'] = 'display_data';\n",
              "          await google.colab.output.renderOutput(dataTable, element);\n",
              "          const docLink = document.createElement('div');\n",
              "          docLink.innerHTML = docLinkHtml;\n",
              "          element.appendChild(docLink);\n",
              "        }\n",
              "      </script>\n",
              "    </div>\n",
              "  </div>\n",
              "  "
            ]
          },
          "metadata": {},
          "execution_count": 4
        }
      ]
    },
    {
      "cell_type": "code",
      "source": [
        "df.Close.plot(color = 'red')"
      ],
      "metadata": {
        "colab": {
          "base_uri": "https://localhost:8080/",
          "height": 288
        },
        "id": "KZOTleMtvitt",
        "outputId": "1719f90f-0db4-4af0-a6e9-a57220e4428d"
      },
      "execution_count": 5,
      "outputs": [
        {
          "output_type": "execute_result",
          "data": {
            "text/plain": [
              "<matplotlib.axes._subplots.AxesSubplot at 0x7fefe0bae850>"
            ]
          },
          "metadata": {},
          "execution_count": 5
        },
        {
          "output_type": "display_data",
          "data": {
            "text/plain": [
              "<Figure size 432x288 with 1 Axes>"
            ],
            "image/png": "[encoded data removed]"
          },
          "metadata": {
            "needs_background": "light"
          }
        }
      ]
    },
    {
      "cell_type": "code",
      "source": [
        "def ts_data(df , X_steps , y_steps):\n",
        "  train_df = df[:'2020'].Close.values.reshape(-1,1)\n",
        "  test_df = df['2021':].Close.values.reshape(-1,1)\n",
        "\n",
        "  sc = MinMaxScaler(feature_range = (0,1))\n",
        "  train_df_scaled = sc.fit_transform(train_df)\n",
        "\n",
        "  X_train = []\n",
        "  y_train = []\n",
        "  for i in range(X_steps , len(train_df_scaled) - 1):\n",
        "    X_train.append(train_df_scaled[i - X_steps : i , 0])\n",
        "    y_train.append(train_df_scaled[i : i + y_steps , 0])\n",
        "  X_train = np.array(X_train)\n",
        "  y_train = np.array(y_train)\n",
        "\n",
        "  X_train = X_train.reshape(X_train.shape[0] , X_train.shape[1] , 1)\n",
        "\n",
        "  X = df.Close.values\n",
        "  X = X[len(X) - len(test_df) - X_steps : ]\n",
        "  X = X.reshape(-1,1)\n",
        "  X = sc.fit_transform(X)\n",
        "\n",
        "  X_test = []\n",
        "  y_test = []\n",
        "  for i in range(X_steps , len(test_df) + X_steps - y_steps):\n",
        "    X_test.append(X[i - X_steps : i , 0])\n",
        "    y_test.append(X[i : i + y_steps , 0])\n",
        "\n",
        "  X_test = np.array(X_test)\n",
        "  X_test = X_test.reshape(X_test.shape[0] , X_test.shape[1] , 1)\n",
        "  y_test = np.array(y_test)\n",
        "\n",
        "  return X_train , y_train , X_test , y_test, sc\n"
      ],
      "metadata": {
        "id": "ZX-ZU0_tviq-"
      },
      "execution_count": 14,
      "outputs": []
    },
    {
      "cell_type": "code",
      "source": [
        "X_train , y_train , X_test , y_test , sc = ts_data(df , 6 , 2)"
      ],
      "metadata": {
        "id": "uLRANYmz0jNo"
      },
      "execution_count": 15,
      "outputs": []
    },
    {
      "cell_type": "code",
      "source": [
        "X_train[0:3]"
      ],
      "metadata": {
        "colab": {
          "base_uri": "https://localhost:8080/"
        },
        "id": "kaKz-TjV-Q8-",
        "outputId": "30dee1c9-8110-4d07-897b-9f99aa2bd257"
      },
      "execution_count": 16,
      "outputs": [
        {
          "output_type": "execute_result",
          "data": {
            "text/plain": [
              "array([[[0.00194856],\n",
              "        [0.00501754],\n",
              "        [0.00638153],\n",
              "        [0.00847623],\n",
              "        [0.00667381],\n",
              "        [0.00716095]],\n",
              "\n",
              "       [[0.00501754],\n",
              "        [0.00638153],\n",
              "        [0.00847623],\n",
              "        [0.00667381],\n",
              "        [0.00716095],\n",
              "        [0.00657638]],\n",
              "\n",
              "       [[0.00638153],\n",
              "        [0.00847623],\n",
              "        [0.00667381],\n",
              "        [0.00716095],\n",
              "        [0.00657638],\n",
              "        [0.00794037]]])"
            ]
          },
          "metadata": {},
          "execution_count": 16
        }
      ]
    },
    {
      "cell_type": "code",
      "source": [
        "y_train[0:3]"
      ],
      "metadata": {
        "colab": {
          "base_uri": "https://localhost:8080/"
        },
        "id": "w2eqQlWV-Q6G",
        "outputId": "b215f78f-0143-4c50-e2f5-eca020e1fd9e"
      },
      "execution_count": 17,
      "outputs": [
        {
          "output_type": "execute_result",
          "data": {
            "text/plain": [
              "array([[0.00657638, 0.00794037],\n",
              "       [0.00794037, 0.00915822],\n",
              "       [0.00915822, 0.00920694]])"
            ]
          },
          "metadata": {},
          "execution_count": 17
        }
      ]
    },
    {
      "cell_type": "markdown",
      "source": [
        "# Simple RNN\n"
      ],
      "metadata": {
        "id": "d2pYJrXP3m3d"
      }
    },
    {
      "cell_type": "code",
      "source": [
        "from keras.models import Sequential\n",
        "from keras.layers import Dense, SimpleRNN"
      ],
      "metadata": {
        "id": "klvGSVVg0jK1"
      },
      "execution_count": 18,
      "outputs": []
    },
    {
      "cell_type": "code",
      "source": [
        "simple_rnn_model = Sequential([\n",
        "                               SimpleRNN(50 , return_sequences = True),\n",
        "                               SimpleRNN(50),\n",
        "                               Dense(2)\n",
        "                                                ])"
      ],
      "metadata": {
        "id": "8RdLq6XD4DRu"
      },
      "execution_count": 19,
      "outputs": []
    },
    {
      "cell_type": "code",
      "source": [
        "simple_rnn_model.compile(optimizer = 'Adam' , loss = 'mean_squared_error')"
      ],
      "metadata": {
        "id": "y3RlywwX4DO9"
      },
      "execution_count": 20,
      "outputs": []
    },
    {
      "cell_type": "code",
      "source": [
        "simple_rnn_model.fit(X_train , y_train , epochs = 100 , validation_split = 0.15)"
      ],
      "metadata": {
        "colab": {
          "base_uri": "https://localhost:8080/"
        },
        "id": "MpLu_HKh49BB",
        "outputId": "157af6ab-8b54-4967-c9a5-1c09341c1dba"
      },
      "execution_count": 21,
      "outputs": [
        {
          "output_type": "stream",
          "name": "stdout",
          "text": [
            "Epoch 1/100\n",
            "60/60 [==============================] - 3s 19ms/step - loss: 0.0028 - val_loss: 0.0111\n",
            "Epoch 2/100\n",
            "60/60 [==============================] - 1s 15ms/step - loss: 1.1463e-04 - val_loss: 0.0072\n",
            "Epoch 3/100\n",
            "60/60 [==============================] - 1s 15ms/step - loss: 7.6260e-05 - val_loss: 0.0036\n",
            "Epoch 4/100\n",
            "60/60 [==============================] - 1s 15ms/step - loss: 7.3594e-05 - val_loss: 0.0030\n",
            "Epoch 5/100\n",
            "60/60 [==============================] - 1s 15ms/step - loss: 6.9490e-05 - val_loss: 0.0022\n",
            "Epoch 6/100\n",
            "60/60 [==============================] - 1s 14ms/step - loss: 7.0984e-05 - val_loss: 0.0020\n",
            "Epoch 7/100\n",
            "60/60 [==============================] - 1s 16ms/step - loss: 1.0612e-04 - val_loss: 0.0053\n",
            "Epoch 8/100\n",
            "60/60 [==============================] - 1s 15ms/step - loss: 6.1941e-05 - val_loss: 0.0022\n",
            "Epoch 9/100\n",
            "60/60 [==============================] - 1s 14ms/step - loss: 5.3261e-05 - val_loss: 0.0023\n",
            "Epoch 10/100\n",
            "60/60 [==============================] - 1s 15ms/step - loss: 6.4183e-05 - val_loss: 0.0011\n",
            "Epoch 11/100\n",
            "60/60 [==============================] - 1s 15ms/step - loss: 1.5323e-04 - val_loss: 0.0013\n",
            "Epoch 12/100\n",
            "60/60 [==============================] - 1s 15ms/step - loss: 5.2335e-05 - val_loss: 0.0016\n",
            "Epoch 13/100\n",
            "60/60 [==============================] - 1s 15ms/step - loss: 6.3273e-05 - val_loss: 0.0013\n",
            "Epoch 14/100\n",
            "60/60 [==============================] - 1s 15ms/step - loss: 5.4308e-05 - val_loss: 8.9100e-04\n",
            "Epoch 15/100\n",
            "60/60 [==============================] - 1s 14ms/step - loss: 7.0116e-05 - val_loss: 0.0022\n",
            "Epoch 16/100\n",
            "60/60 [==============================] - 1s 15ms/step - loss: 6.6429e-05 - val_loss: 9.7111e-04\n",
            "Epoch 17/100\n",
            "60/60 [==============================] - 1s 14ms/step - loss: 5.4981e-05 - val_loss: 0.0018\n",
            "Epoch 18/100\n",
            "60/60 [==============================] - 1s 14ms/step - loss: 9.2141e-05 - val_loss: 7.6009e-04\n",
            "Epoch 19/100\n",
            "60/60 [==============================] - 1s 14ms/step - loss: 8.3243e-05 - val_loss: 9.6218e-04\n",
            "Epoch 20/100\n",
            "60/60 [==============================] - 1s 15ms/step - loss: 7.6527e-05 - val_loss: 0.0016\n",
            "Epoch 21/100\n",
            "60/60 [==============================] - 1s 14ms/step - loss: 5.7009e-05 - val_loss: 7.4992e-04\n",
            "Epoch 22/100\n",
            "60/60 [==============================] - 1s 15ms/step - loss: 5.7315e-05 - val_loss: 8.1616e-04\n",
            "Epoch 23/100\n",
            "60/60 [==============================] - 1s 15ms/step - loss: 4.6489e-05 - val_loss: 6.9016e-04\n",
            "Epoch 24/100\n",
            "60/60 [==============================] - 1s 15ms/step - loss: 7.7704e-05 - val_loss: 0.0012\n",
            "Epoch 25/100\n",
            "60/60 [==============================] - 1s 14ms/step - loss: 4.7575e-05 - val_loss: 0.0011\n",
            "Epoch 26/100\n",
            "60/60 [==============================] - 1s 14ms/step - loss: 5.0575e-05 - val_loss: 8.3440e-04\n",
            "Epoch 27/100\n",
            "60/60 [==============================] - 1s 14ms/step - loss: 6.1118e-05 - val_loss: 0.0024\n",
            "Epoch 28/100\n",
            "60/60 [==============================] - 1s 14ms/step - loss: 5.0423e-05 - val_loss: 0.0011\n",
            "Epoch 29/100\n",
            "60/60 [==============================] - 1s 14ms/step - loss: 6.6351e-05 - val_loss: 8.1615e-04\n",
            "Epoch 30/100\n",
            "60/60 [==============================] - 1s 15ms/step - loss: 4.5852e-05 - val_loss: 9.8024e-04\n",
            "Epoch 31/100\n",
            "60/60 [==============================] - 1s 15ms/step - loss: 4.4265e-05 - val_loss: 0.0013\n",
            "Epoch 32/100\n",
            "60/60 [==============================] - 1s 15ms/step - loss: 5.5383e-05 - val_loss: 9.1969e-04\n",
            "Epoch 33/100\n",
            "60/60 [==============================] - 1s 15ms/step - loss: 4.4471e-05 - val_loss: 6.6157e-04\n",
            "Epoch 34/100\n",
            "60/60 [==============================] - 1s 14ms/step - loss: 5.9502e-05 - val_loss: 0.0026\n",
            "Epoch 35/100\n",
            "60/60 [==============================] - 1s 14ms/step - loss: 5.4159e-05 - val_loss: 0.0015\n",
            "Epoch 36/100\n",
            "60/60 [==============================] - 1s 14ms/step - loss: 4.5279e-05 - val_loss: 7.4758e-04\n",
            "Epoch 37/100\n",
            "60/60 [==============================] - 1s 15ms/step - loss: 5.9916e-05 - val_loss: 6.7883e-04\n",
            "Epoch 38/100\n",
            "60/60 [==============================] - 1s 15ms/step - loss: 4.0031e-05 - val_loss: 7.1037e-04\n",
            "Epoch 39/100\n",
            "60/60 [==============================] - 1s 15ms/step - loss: 4.5445e-05 - val_loss: 8.7336e-04\n",
            "Epoch 40/100\n",
            "60/60 [==============================] - 1s 15ms/step - loss: 5.7887e-05 - val_loss: 0.0010\n",
            "Epoch 41/100\n",
            "60/60 [==============================] - 1s 14ms/step - loss: 5.5305e-05 - val_loss: 5.6608e-04\n",
            "Epoch 42/100\n",
            "60/60 [==============================] - 1s 15ms/step - loss: 4.8594e-05 - val_loss: 0.0010\n",
            "Epoch 43/100\n",
            "60/60 [==============================] - 1s 14ms/step - loss: 4.7736e-05 - val_loss: 5.7639e-04\n",
            "Epoch 44/100\n",
            "60/60 [==============================] - 1s 15ms/step - loss: 5.4529e-05 - val_loss: 6.7833e-04\n",
            "Epoch 45/100\n",
            "60/60 [==============================] - 1s 15ms/step - loss: 7.4377e-05 - val_loss: 0.0019\n",
            "Epoch 46/100\n",
            "60/60 [==============================] - 1s 15ms/step - loss: 6.8197e-05 - val_loss: 9.5667e-04\n",
            "Epoch 47/100\n",
            "60/60 [==============================] - 1s 15ms/step - loss: 4.1202e-05 - val_loss: 0.0010\n",
            "Epoch 48/100\n",
            "60/60 [==============================] - 1s 15ms/step - loss: 4.1546e-05 - val_loss: 5.7223e-04\n",
            "Epoch 49/100\n",
            "60/60 [==============================] - 1s 15ms/step - loss: 4.5364e-05 - val_loss: 6.9520e-04\n",
            "Epoch 50/100\n",
            "60/60 [==============================] - 1s 20ms/step - loss: 4.6952e-05 - val_loss: 6.1841e-04\n",
            "Epoch 51/100\n",
            "60/60 [==============================] - 1s 17ms/step - loss: 4.3743e-05 - val_loss: 7.3776e-04\n",
            "Epoch 52/100\n",
            "60/60 [==============================] - 1s 15ms/step - loss: 4.3349e-05 - val_loss: 7.2746e-04\n",
            "Epoch 53/100\n",
            "60/60 [==============================] - 1s 15ms/step - loss: 4.0240e-05 - val_loss: 0.0014\n",
            "Epoch 54/100\n",
            "60/60 [==============================] - 1s 15ms/step - loss: 4.7369e-05 - val_loss: 6.0188e-04\n",
            "Epoch 55/100\n",
            "60/60 [==============================] - 1s 15ms/step - loss: 5.7120e-05 - val_loss: 6.6838e-04\n",
            "Epoch 56/100\n",
            "60/60 [==============================] - 1s 15ms/step - loss: 4.3108e-05 - val_loss: 0.0010\n",
            "Epoch 57/100\n",
            "60/60 [==============================] - 1s 15ms/step - loss: 4.8248e-05 - val_loss: 0.0015\n",
            "Epoch 58/100\n",
            "60/60 [==============================] - 1s 15ms/step - loss: 4.4797e-05 - val_loss: 7.8791e-04\n",
            "Epoch 59/100\n",
            "60/60 [==============================] - 1s 15ms/step - loss: 3.9196e-05 - val_loss: 6.3337e-04\n",
            "Epoch 60/100\n",
            "60/60 [==============================] - 1s 16ms/step - loss: 3.8323e-05 - val_loss: 5.8776e-04\n",
            "Epoch 61/100\n",
            "60/60 [==============================] - 1s 15ms/step - loss: 4.1250e-05 - val_loss: 5.7190e-04\n",
            "Epoch 62/100\n",
            "60/60 [==============================] - 1s 15ms/step - loss: 4.0742e-05 - val_loss: 8.0663e-04\n",
            "Epoch 63/100\n",
            "60/60 [==============================] - 1s 15ms/step - loss: 3.8175e-05 - val_loss: 7.4835e-04\n",
            "Epoch 64/100\n",
            "60/60 [==============================] - 1s 15ms/step - loss: 4.2739e-05 - val_loss: 0.0013\n",
            "Epoch 65/100\n",
            "60/60 [==============================] - 1s 15ms/step - loss: 5.9265e-05 - val_loss: 0.0010\n",
            "Epoch 66/100\n",
            "60/60 [==============================] - 1s 15ms/step - loss: 5.0286e-05 - val_loss: 9.0424e-04\n",
            "Epoch 67/100\n",
            "60/60 [==============================] - 1s 15ms/step - loss: 5.4201e-05 - val_loss: 6.9601e-04\n",
            "Epoch 68/100\n",
            "60/60 [==============================] - 1s 15ms/step - loss: 6.4358e-05 - val_loss: 0.0011\n",
            "Epoch 69/100\n",
            "60/60 [==============================] - 1s 15ms/step - loss: 4.7732e-05 - val_loss: 0.0012\n",
            "Epoch 70/100\n",
            "60/60 [==============================] - 1s 15ms/step - loss: 4.3535e-05 - val_loss: 8.6094e-04\n",
            "Epoch 71/100\n",
            "60/60 [==============================] - 1s 15ms/step - loss: 4.0156e-05 - val_loss: 7.4422e-04\n",
            "Epoch 72/100\n",
            "60/60 [==============================] - 1s 15ms/step - loss: 5.9020e-05 - val_loss: 0.0016\n",
            "Epoch 73/100\n",
            "60/60 [==============================] - 1s 16ms/step - loss: 4.2045e-05 - val_loss: 6.5044e-04\n",
            "Epoch 74/100\n",
            "60/60 [==============================] - 1s 15ms/step - loss: 3.7811e-05 - val_loss: 4.8980e-04\n",
            "Epoch 75/100\n",
            "60/60 [==============================] - 1s 15ms/step - loss: 5.0015e-05 - val_loss: 6.9692e-04\n",
            "Epoch 76/100\n",
            "60/60 [==============================] - 1s 15ms/step - loss: 4.1194e-05 - val_loss: 5.5475e-04\n",
            "Epoch 77/100\n",
            "60/60 [==============================] - 1s 14ms/step - loss: 4.3556e-05 - val_loss: 6.5690e-04\n",
            "Epoch 78/100\n",
            "60/60 [==============================] - 1s 15ms/step - loss: 4.4619e-05 - val_loss: 9.6999e-04\n",
            "Epoch 79/100\n",
            "60/60 [==============================] - 1s 15ms/step - loss: 3.8476e-05 - val_loss: 0.0014\n",
            "Epoch 80/100\n",
            "60/60 [==============================] - 1s 15ms/step - loss: 3.9175e-05 - val_loss: 6.8012e-04\n",
            "Epoch 81/100\n",
            "60/60 [==============================] - 1s 22ms/step - loss: 3.9125e-05 - val_loss: 4.9162e-04\n",
            "Epoch 82/100\n",
            "60/60 [==============================] - 1s 24ms/step - loss: 4.6246e-05 - val_loss: 5.3507e-04\n",
            "Epoch 83/100\n",
            "60/60 [==============================] - 1s 15ms/step - loss: 3.8827e-05 - val_loss: 4.9771e-04\n",
            "Epoch 84/100\n",
            "60/60 [==============================] - 1s 15ms/step - loss: 4.3246e-05 - val_loss: 5.2221e-04\n",
            "Epoch 85/100\n",
            "60/60 [==============================] - 1s 15ms/step - loss: 4.6127e-05 - val_loss: 0.0014\n",
            "Epoch 86/100\n",
            "60/60 [==============================] - 1s 15ms/step - loss: 4.4953e-05 - val_loss: 6.7881e-04\n",
            "Epoch 87/100\n",
            "60/60 [==============================] - 1s 16ms/step - loss: 3.6567e-05 - val_loss: 6.8431e-04\n",
            "Epoch 88/100\n",
            "60/60 [==============================] - 1s 15ms/step - loss: 4.2199e-05 - val_loss: 7.5458e-04\n",
            "Epoch 89/100\n",
            "60/60 [==============================] - 1s 16ms/step - loss: 5.5378e-05 - val_loss: 7.4357e-04\n",
            "Epoch 90/100\n",
            "60/60 [==============================] - 1s 15ms/step - loss: 4.3385e-05 - val_loss: 0.0011\n",
            "Epoch 91/100\n",
            "60/60 [==============================] - 1s 14ms/step - loss: 4.3035e-05 - val_loss: 6.7019e-04\n",
            "Epoch 92/100\n",
            "60/60 [==============================] - 1s 15ms/step - loss: 3.8805e-05 - val_loss: 6.3187e-04\n",
            "Epoch 93/100\n",
            "60/60 [==============================] - 1s 15ms/step - loss: 4.3963e-05 - val_loss: 6.3681e-04\n",
            "Epoch 94/100\n",
            "60/60 [==============================] - 1s 15ms/step - loss: 4.4002e-05 - val_loss: 9.1888e-04\n",
            "Epoch 95/100\n",
            "60/60 [==============================] - 1s 14ms/step - loss: 3.9416e-05 - val_loss: 0.0015\n",
            "Epoch 96/100\n",
            "60/60 [==============================] - 1s 15ms/step - loss: 4.8107e-05 - val_loss: 0.0013\n",
            "Epoch 97/100\n",
            "60/60 [==============================] - 1s 14ms/step - loss: 4.0192e-05 - val_loss: 7.6732e-04\n",
            "Epoch 98/100\n",
            "60/60 [==============================] - 1s 15ms/step - loss: 4.4328e-05 - val_loss: 8.2821e-04\n",
            "Epoch 99/100\n",
            "60/60 [==============================] - 1s 15ms/step - loss: 3.8530e-05 - val_loss: 8.7953e-04\n",
            "Epoch 100/100\n",
            "60/60 [==============================] - 1s 15ms/step - loss: 4.0001e-05 - val_loss: 6.4511e-04\n"
          ]
        },
        {
          "output_type": "execute_result",
          "data": {
            "text/plain": [
              "<keras.callbacks.History at 0x7fef643107d0>"
            ]
          },
          "metadata": {},
          "execution_count": 21
        }
      ]
    },
    {
      "cell_type": "code",
      "source": [
        "simple_rnn_pred = simple_rnn_model.predict(X_test)"
      ],
      "metadata": {
        "id": "NawyOB_s5rPG"
      },
      "execution_count": 22,
      "outputs": []
    },
    {
      "cell_type": "code",
      "source": [
        "def prediction_plot(predictions):\n",
        "  fig , ax = plt.subplots()\n",
        "  ax.plot(df['2021': ].index[: len(y_test)] , sc.inverse_transform(y_test[: , 0].reshape(-1,1)) , label = 'real')\n",
        "  ax.plot(df['2021': ].index[: len(y_test)] , sc.inverse_transform(predictions[: , 0].reshape(-1,1)) , label = 'prediction')"
      ],
      "metadata": {
        "id": "olZkbXnB5rL9"
      },
      "execution_count": 23,
      "outputs": []
    },
    {
      "cell_type": "code",
      "source": [
        "prediction_plot(simple_rnn_pred)"
      ],
      "metadata": {
        "colab": {
          "base_uri": "https://localhost:8080/",
          "height": 265
        },
        "id": "KpjB5ii86xIN",
        "outputId": "cecc0b33-32a2-479f-d124-ed0df8bd9463"
      },
      "execution_count": 24,
      "outputs": [
        {
          "output_type": "display_data",
          "data": {
            "text/plain": [
              "<Figure size 432x288 with 1 Axes>"
            ],
            "image/png": "[encoded data removed]"
          },
          "metadata": {
            "needs_background": "light"
          }
        }
      ]
    }
  ]
}