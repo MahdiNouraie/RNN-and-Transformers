{
  "nbformat": 4,
  "nbformat_minor": 0,
  "metadata": {
    "colab": {
      "name": "DeepAR_MSFT.ipynb",
      "provenance": [],
      "collapsed_sections": [],
      "authorship_tag": "ABX9TyNvYSy7uojTl+R+E1ZnZc9J",
      "include_colab_link": true
    },
    "kernelspec": {
      "name": "python3",
      "display_name": "Python 3"
    },
    "language_info": {
      "name": "python"
    },
    "accelerator": "GPU",
    "gpuClass": "standard"
  },
  "cells": [
    {
      "cell_type": "markdown",
      "metadata": {
        "id": "view-in-github",
        "colab_type": "text"
      },
      "source": [
        "<a href=\"https://colab.research.google.com/github/MahdiNouraie/RNN-and-Transformers/blob/main/DeepAR_MSFT.ipynb\" target=\"_parent\"><img src=\"https://colab.research.google.com/assets/colab-badge.svg\" alt=\"Open In Colab\"/></a>"
      ]
    },
    {
      "cell_type": "code",
      "source": [
        "import tensorflow as tf\n",
        "import pandas as pd\n",
        "import numpy as np\n",
        "import matplotlib.pyplot as plt\n",
        "from sklearn.preprocessing import MinMaxScaler"
      ],
      "metadata": {
        "id": "Q4biz5wY_NVU"
      },
      "execution_count": 3,
      "outputs": []
    },
    {
      "cell_type": "code",
      "source": [
        "! pip install yfinance"
      ],
      "metadata": {
        "id": "nh9WkqxR_NS0"
      },
      "execution_count": null,
      "outputs": []
    },
    {
      "cell_type": "code",
      "source": [
        "import yfinance as yf"
      ],
      "metadata": {
        "id": "7Rz_laG1_NPV"
      },
      "execution_count": 5,
      "outputs": []
    },
    {
      "cell_type": "code",
      "source": [
        "ms = yf.download('MSFT' ,\n",
        "                            start = '2012-01-01',\n",
        "                            end = '2021-12-31',\n",
        "                            progress = False )\n",
        "df = ms[['Adj Close' , 'Open' , 'Close' , 'High' , 'Low' ]].round(3)\n",
        "df"
      ],
      "metadata": {
        "colab": {
          "base_uri": "https://localhost:8080/",
          "height": 455
        },
        "id": "sJa6dZ6__T_W",
        "outputId": "1f70584f-56d8-4fc8-c4cc-dea56d8c0552"
      },
      "execution_count": 6,
      "outputs": [
        {
          "output_type": "execute_result",
          "data": {
            "text/plain": [
              "            Adj Close    Open   Close    High     Low\n",
              "Date                                                 \n",
              "2012-01-03     21.573   26.55   26.77   26.96   26.39\n",
              "2012-01-04     22.081   26.82   27.40   27.47   26.78\n",
              "2012-01-05     22.306   27.38   27.68   27.73   27.29\n",
              "2012-01-06     22.653   27.53   28.11   28.19   27.53\n",
              "2012-01-09     22.355   28.05   27.74   28.10   27.72\n",
              "...               ...     ...     ...     ...     ...\n",
              "2021-12-23    333.223  332.75  334.69  336.39  332.73\n",
              "2021-12-27    340.949  335.46  342.45  342.48  335.43\n",
              "2021-12-28    339.755  343.15  341.25  343.81  340.32\n",
              "2021-12-29    340.451  341.30  341.95  344.30  339.68\n",
              "2021-12-30    337.833  341.91  339.32  343.13  338.82\n",
              "\n",
              "[2516 rows x 5 columns]"
            ],
            "text/html": [
              "\n",
              "  <div id=\"df-59665091-9e46-4e8e-9e8f-ea11a0869d8b\">\n",
              "    <div class=\"colab-df-container\">\n",
              "      <div>\n",
              "<style scoped>\n",
              "    .dataframe tbody tr th:only-of-type {\n",
              "        vertical-align: middle;\n",
              "    }\n",
              "\n",
              "    .dataframe tbody tr th {\n",
              "        vertical-align: top;\n",
              "    }\n",
              "\n",
              "    .dataframe thead th {\n",
              "        text-align: right;\n",
              "    }\n",
              "</style>\n",
              "<table border=\"1\" class=\"dataframe\">\n",
              "  <thead>\n",
              "    <tr style=\"text-align: right;\">\n",
              "      <th></th>\n",
              "      <th>Adj Close</th>\n",
              "      <th>Open</th>\n",
              "      <th>Close</th>\n",
              "      <th>High</th>\n",
              "      <th>Low</th>\n",
              "    </tr>\n",
              "    <tr>\n",
              "      <th>Date</th>\n",
              "      <th></th>\n",
              "      <th></th>\n",
              "      <th></th>\n",
              "      <th></th>\n",
              "      <th></th>\n",
              "    </tr>\n",
              "  </thead>\n",
              "  <tbody>\n",
              "    <tr>\n",
              "      <th>2012-01-03</th>\n",
              "      <td>21.573</td>\n",
              "      <td>26.55</td>\n",
              "      <td>26.77</td>\n",
              "      <td>26.96</td>\n",
              "      <td>26.39</td>\n",
              "    </tr>\n",
              "    <tr>\n",
              "      <th>2012-01-04</th>\n",
              "      <td>22.081</td>\n",
              "      <td>26.82</td>\n",
              "      <td>27.40</td>\n",
              "      <td>27.47</td>\n",
              "      <td>26.78</td>\n",
              "    </tr>\n",
              "    <tr>\n",
              "      <th>2012-01-05</th>\n",
              "      <td>22.306</td>\n",
              "      <td>27.38</td>\n",
              "      <td>27.68</td>\n",
              "      <td>27.73</td>\n",
              "      <td>27.29</td>\n",
              "    </tr>\n",
              "    <tr>\n",
              "      <th>2012-01-06</th>\n",
              "      <td>22.653</td>\n",
              "      <td>27.53</td>\n",
              "      <td>28.11</td>\n",
              "      <td>28.19</td>\n",
              "      <td>27.53</td>\n",
              "    </tr>\n",
              "    <tr>\n",
              "      <th>2012-01-09</th>\n",
              "      <td>22.355</td>\n",
              "      <td>28.05</td>\n",
              "      <td>27.74</td>\n",
              "      <td>28.10</td>\n",
              "      <td>27.72</td>\n",
              "    </tr>\n",
              "    <tr>\n",
              "      <th>...</th>\n",
              "      <td>...</td>\n",
              "      <td>...</td>\n",
              "      <td>...</td>\n",
              "      <td>...</td>\n",
              "      <td>...</td>\n",
              "    </tr>\n",
              "    <tr>\n",
              "      <th>2021-12-23</th>\n",
              "      <td>333.223</td>\n",
              "      <td>332.75</td>\n",
              "      <td>334.69</td>\n",
              "      <td>336.39</td>\n",
              "      <td>332.73</td>\n",
              "    </tr>\n",
              "    <tr>\n",
              "      <th>2021-12-27</th>\n",
              "      <td>340.949</td>\n",
              "      <td>335.46</td>\n",
              "      <td>342.45</td>\n",
              "      <td>342.48</td>\n",
              "      <td>335.43</td>\n",
              "    </tr>\n",
              "    <tr>\n",
              "      <th>2021-12-28</th>\n",
              "      <td>339.755</td>\n",
              "      <td>343.15</td>\n",
              "      <td>341.25</td>\n",
              "      <td>343.81</td>\n",
              "      <td>340.32</td>\n",
              "    </tr>\n",
              "    <tr>\n",
              "      <th>2021-12-29</th>\n",
              "      <td>340.451</td>\n",
              "      <td>341.30</td>\n",
              "      <td>341.95</td>\n",
              "      <td>344.30</td>\n",
              "      <td>339.68</td>\n",
              "    </tr>\n",
              "    <tr>\n",
              "      <th>2021-12-30</th>\n",
              "      <td>337.833</td>\n",
              "      <td>341.91</td>\n",
              "      <td>339.32</td>\n",
              "      <td>343.13</td>\n",
              "      <td>338.82</td>\n",
              "    </tr>\n",
              "  </tbody>\n",
              "</table>\n",
              "<p>2516 rows × 5 columns</p>\n",
              "</div>\n",
              "      <button class=\"colab-df-convert\" onclick=\"convertToInteractive('df-59665091-9e46-4e8e-9e8f-ea11a0869d8b')\"\n",
              "              title=\"Convert this dataframe to an interactive table.\"\n",
              "              style=\"display:none;\">\n",
              "        \n",
              "  <svg xmlns=\"http://www.w3.org/2000/svg\" height=\"24px\"viewBox=\"0 0 24 24\"\n",
              "       width=\"24px\">\n",
              "    <path d=\"M0 0h24v24H0V0z\" fill=\"none\"/>\n",
              "    <path d=\"M18.56 5.44l.94 2.06.94-2.06 2.06-.94-2.06-.94-.94-2.06-.94 2.06-2.06.94zm-11 1L8.5 8.5l.94-2.06 2.06-.94-2.06-.94L8.5 2.5l-.94 2.06-2.06.94zm10 10l.94 2.06.94-2.06 2.06-.94-2.06-.94-.94-2.06-.94 2.06-2.06.94z\"/><path d=\"M17.41 7.96l-1.37-1.37c-.4-.4-.92-.59-1.43-.59-.52 0-1.04.2-1.43.59L10.3 9.45l-7.72 7.72c-.78.78-.78 2.05 0 2.83L4 21.41c.39.39.9.59 1.41.59.51 0 1.02-.2 1.41-.59l7.78-7.78 2.81-2.81c.8-.78.8-2.07 0-2.86zM5.41 20L4 18.59l7.72-7.72 1.47 1.35L5.41 20z\"/>\n",
              "  </svg>\n",
              "      </button>\n",
              "      \n",
              "  <style>\n",
              "    .colab-df-container {\n",
              "      display:flex;\n",
              "      flex-wrap:wrap;\n",
              "      gap: 12px;\n",
              "    }\n",
              "\n",
              "    .colab-df-convert {\n",
              "      background-color: #E8F0FE;\n",
              "      border: none;\n",
              "      border-radius: 50%;\n",
              "      cursor: pointer;\n",
              "      display: none;\n",
              "      fill: #1967D2;\n",
              "      height: 32px;\n",
              "      padding: 0 0 0 0;\n",
              "      width: 32px;\n",
              "    }\n",
              "\n",
              "    .colab-df-convert:hover {\n",
              "      background-color: #E2EBFA;\n",
              "      box-shadow: 0px 1px 2px rgba(60, 64, 67, 0.3), 0px 1px 3px 1px rgba(60, 64, 67, 0.15);\n",
              "      fill: #174EA6;\n",
              "    }\n",
              "\n",
              "    [theme=dark] .colab-df-convert {\n",
              "      background-color: #3B4455;\n",
              "      fill: #D2E3FC;\n",
              "    }\n",
              "\n",
              "    [theme=dark] .colab-df-convert:hover {\n",
              "      background-color: #434B5C;\n",
              "      box-shadow: 0px 1px 3px 1px rgba(0, 0, 0, 0.15);\n",
              "      filter: drop-shadow(0px 1px 2px rgba(0, 0, 0, 0.3));\n",
              "      fill: #FFFFFF;\n",
              "    }\n",
              "  </style>\n",
              "\n",
              "      <script>\n",
              "        const buttonEl =\n",
              "          document.querySelector('#df-59665091-9e46-4e8e-9e8f-ea11a0869d8b button.colab-df-convert');\n",
              "        buttonEl.style.display =\n",
              "          google.colab.kernel.accessAllowed ? 'block' : 'none';\n",
              "\n",
              "        async function convertToInteractive(key) {\n",
              "          const element = document.querySelector('#df-59665091-9e46-4e8e-9e8f-ea11a0869d8b');\n",
              "          const dataTable =\n",
              "            await google.colab.kernel.invokeFunction('convertToInteractive',\n",
              "                                                     [key], {});\n",
              "          if (!dataTable) return;\n",
              "\n",
              "          const docLinkHtml = 'Like what you see? Visit the ' +\n",
              "            '<a target=\"_blank\" href=https://colab.research.google.com/notebooks/data_table.ipynb>data table notebook</a>'\n",
              "            + ' to learn more about interactive tables.';\n",
              "          element.innerHTML = '';\n",
              "          dataTable['output_type'] = 'display_data';\n",
              "          await google.colab.output.renderOutput(dataTable, element);\n",
              "          const docLink = document.createElement('div');\n",
              "          docLink.innerHTML = docLinkHtml;\n",
              "          element.appendChild(docLink);\n",
              "        }\n",
              "      </script>\n",
              "    </div>\n",
              "  </div>\n",
              "  "
            ]
          },
          "metadata": {},
          "execution_count": 6
        }
      ]
    },
    {
      "cell_type": "code",
      "execution_count": null,
      "metadata": {
        "id": "peFBx_1O-cMa"
      },
      "outputs": [],
      "source": [
        "!pip install gluonts"
      ]
    },
    {
      "cell_type": "code",
      "source": [
        "import gluonts\n",
        "from gluonts.dataset.common import ListDataset\n",
        "from gluonts.dataset.util import to_pandas"
      ],
      "metadata": {
        "id": "0i-i-bzz-zZi"
      },
      "execution_count": 2,
      "outputs": []
    },
    {
      "cell_type": "code",
      "source": [
        "!pip install mxnet"
      ],
      "metadata": {
        "id": "qbmEPf2PAmSz"
      },
      "execution_count": null,
      "outputs": []
    },
    {
      "cell_type": "code",
      "source": [
        "import mxnet"
      ],
      "metadata": {
        "id": "G1DKiJ4LAl4g"
      },
      "execution_count": 15,
      "outputs": []
    },
    {
      "cell_type": "code",
      "source": [
        "train_data = ListDataset(\n",
        "                [{'start' : df.index[0], 'target' : df.Close[:'2020']}],\n",
        "                freq = 'D'\n",
        ")"
      ],
      "metadata": {
        "id": "hW7liF6g-zWs"
      },
      "execution_count": 7,
      "outputs": []
    },
    {
      "cell_type": "code",
      "source": [
        "train_listData = next(iter(train_data))\n",
        "train_series = to_pandas(train_listData)\n",
        "train_series"
      ],
      "metadata": {
        "colab": {
          "base_uri": "https://localhost:8080/"
        },
        "id": "sBWr0n6q-zUS",
        "outputId": "a7b4e3a0-785c-46fa-90f4-6419e924cb5c"
      },
      "execution_count": 9,
      "outputs": [
        {
          "output_type": "stream",
          "name": "stderr",
          "text": [
            "/usr/local/lib/python3.7/dist-packages/gluonts/dataset/util.py:136: FutureWarning: Timestamp.freqstr is deprecated and will be removed in a future version.\n",
            "  freq = start.freqstr\n"
          ]
        },
        {
          "output_type": "execute_result",
          "data": {
            "text/plain": [
              "2012-01-03     26.770000\n",
              "2012-01-04     27.400000\n",
              "2012-01-05     27.680000\n",
              "2012-01-06     28.110001\n",
              "2012-01-07     27.740000\n",
              "                 ...    \n",
              "2018-03-12    222.750000\n",
              "2018-03-13    224.960007\n",
              "2018-03-14    224.149994\n",
              "2018-03-15    221.679993\n",
              "2018-03-16    222.419998\n",
              "Freq: D, Length: 2265, dtype: float32"
            ]
          },
          "metadata": {},
          "execution_count": 9
        }
      ]
    },
    {
      "cell_type": "code",
      "source": [
        "train_series.plot()"
      ],
      "metadata": {
        "colab": {
          "base_uri": "https://localhost:8080/",
          "height": 284
        },
        "id": "dcHhlpDI-zRm",
        "outputId": "8fe4f92d-8f70-469b-9a81-42c48adddb79"
      },
      "execution_count": 11,
      "outputs": [
        {
          "output_type": "execute_result",
          "data": {
            "text/plain": [
              "<matplotlib.axes._subplots.AxesSubplot at 0x7f7a87402790>"
            ]
          },
          "metadata": {},
          "execution_count": 11
        },
        {
          "output_type": "display_data",
          "data": {
            "text/plain": [
              "<Figure size 432x288 with 1 Axes>"
            ],
            "image/png": "[encoded data removed]"
          },
          "metadata": {
            "needs_background": "light"
          }
        }
      ]
    },
    {
      "cell_type": "code",
      "source": [
        "test_data = ListDataset(\n",
        "                [{'start' : df.index[0], 'target' : df.Close}],\n",
        "                freq = 'D'\n",
        ")"
      ],
      "metadata": {
        "id": "LVFixp2HAJ4s"
      },
      "execution_count": 12,
      "outputs": []
    },
    {
      "cell_type": "code",
      "source": [
        "test_listData = next(iter(test_data))\n",
        "test_series = to_pandas(test_listData)\n",
        "test_series.plot()"
      ],
      "metadata": {
        "colab": {
          "base_uri": "https://localhost:8080/",
          "height": 323
        },
        "id": "OAVIK4DnAJ1x",
        "outputId": "92aba5ea-fc35-42e0-a274-919f56608442"
      },
      "execution_count": 13,
      "outputs": [
        {
          "output_type": "stream",
          "name": "stderr",
          "text": [
            "/usr/local/lib/python3.7/dist-packages/gluonts/dataset/util.py:136: FutureWarning: Timestamp.freqstr is deprecated and will be removed in a future version.\n",
            "  freq = start.freqstr\n"
          ]
        },
        {
          "output_type": "execute_result",
          "data": {
            "text/plain": [
              "<matplotlib.axes._subplots.AxesSubplot at 0x7f7a8726d3d0>"
            ]
          },
          "metadata": {},
          "execution_count": 13
        },
        {
          "output_type": "display_data",
          "data": {
            "text/plain": [
              "<Figure size 432x288 with 1 Axes>"
            ],
            "image/png": "[encoded data removed]"
          },
          "metadata": {
            "needs_background": "light"
          }
        }
      ]
    },
    {
      "cell_type": "code",
      "source": [
        "from gluonts.model.deepar import DeepAREstimator\n",
        "from gluonts.mx.trainer.learning_rate_scheduler import LearningRateReduction\n",
        "from gluonts.mx.trainer.model_averaging import ModelAveraging,SelectNBestMean\n",
        "from gluonts.mx.trainer import Trainer"
      ],
      "metadata": {
        "id": "bcrW2sC3AJwV"
      },
      "execution_count": 25,
      "outputs": []
    },
    {
      "cell_type": "code",
      "source": [
        "callbacks = [\n",
        "             LearningRateReduction(objective = 'min',\n",
        "                                   patience = 10,\n",
        "                                   base_lr = 1e-3,\n",
        "                                   decay_factor = 0.5),\n",
        "             ModelAveraging(avg_strategy = SelectNBestMean(num_models = 2) )\n",
        "                ]"
      ],
      "metadata": {
        "id": "Rot9H-TXAg4i"
      },
      "execution_count": 24,
      "outputs": []
    },
    {
      "cell_type": "code",
      "source": [
        "deepAR_model = DeepAREstimator(freq = 'D' , \n",
        "                            prediction_length = 5,\n",
        "                            context_length = 10,\n",
        "                            num_layers = 4,\n",
        "                            num_cells = 100,\n",
        "                            dropout_rate = 0.05,\n",
        "                            cell_type = 'gru',\n",
        "                            trainer = Trainer(epochs = 100 , callbacks = callbacks)\n",
        "                            )"
      ],
      "metadata": {
        "id": "x81hSgpKAg1n"
      },
      "execution_count": 28,
      "outputs": []
    },
    {
      "cell_type": "code",
      "source": [
        "deepAR_model_predictor = deepAR_model.train(train_data)"
      ],
      "metadata": {
        "colab": {
          "base_uri": "https://localhost:8080/"
        },
        "id": "KODPf_ToAgxL",
        "outputId": "76f156a5-ba4f-4501-f109-8df11db08d6f"
      },
      "execution_count": 29,
      "outputs": [
        {
          "output_type": "stream",
          "name": "stderr",
          "text": [
            "/usr/local/lib/python3.7/dist-packages/gluonts/transform/feature.py:343: FutureWarning: Timestamp.freq is deprecated and will be removed in a future version\n",
            "  self._freq_base = start.freq.base\n",
            "/usr/local/lib/python3.7/dist-packages/gluonts/transform/split.py:36: FutureWarning: Timestamp.freq is deprecated and will be removed in a future version\n",
            "  return _shift_timestamp_helper(ts, ts.freq, offset)\n",
            "/usr/local/lib/python3.7/dist-packages/gluonts/transform/feature.py:386: FutureWarning: Timestamp.freq is deprecated and will be removed in a future version\n",
            "  if self._full_range_date_features is not None\n",
            "  0%|          | 0/50 [00:00<?, ?it/s]/usr/local/lib/python3.7/dist-packages/gluonts/transform/feature.py:340: FutureWarning: Timestamp.freq is deprecated and will be removed in a future version\n",
            "  self._freq_base is None or self._freq_base == start.freq.base\n",
            "/usr/local/lib/python3.7/dist-packages/gluonts/transform/split.py:36: FutureWarning: Timestamp.freq is deprecated and will be removed in a future version\n",
            "  return _shift_timestamp_helper(ts, ts.freq, offset)\n",
            "/usr/local/lib/python3.7/dist-packages/gluonts/transform/feature.py:340: FutureWarning: Timestamp.freq is deprecated and will be removed in a future version\n",
            "  self._freq_base is None or self._freq_base == start.freq.base\n",
            "/usr/local/lib/python3.7/dist-packages/gluonts/transform/feature.py:386: FutureWarning: Timestamp.freq is deprecated and will be removed in a future version\n",
            "  if self._full_range_date_features is not None\n",
            "100%|██████████| 50/50 [00:05<00:00,  9.96it/s, epoch=1/100, avg_epoch_loss=5.01]\n",
            "100%|██████████| 50/50 [00:04<00:00, 10.75it/s, epoch=2/100, avg_epoch_loss=4.4]\n",
            "100%|██████████| 50/50 [00:04<00:00, 10.56it/s, epoch=3/100, avg_epoch_loss=3.51]\n",
            "100%|██████████| 50/50 [00:04<00:00, 10.67it/s, epoch=4/100, avg_epoch_loss=3.96]\n",
            "100%|██████████| 50/50 [00:04<00:00, 10.69it/s, epoch=5/100, avg_epoch_loss=2.79]\n",
            "100%|██████████| 50/50 [00:04<00:00, 10.79it/s, epoch=6/100, avg_epoch_loss=2.48]\n",
            "100%|██████████| 50/50 [00:04<00:00, 10.82it/s, epoch=7/100, avg_epoch_loss=2.69]\n",
            "100%|██████████| 50/50 [00:04<00:00, 10.77it/s, epoch=8/100, avg_epoch_loss=2.06]\n",
            "100%|██████████| 50/50 [00:04<00:00, 10.85it/s, epoch=9/100, avg_epoch_loss=2.22]\n",
            "100%|██████████| 50/50 [00:04<00:00, 10.63it/s, epoch=10/100, avg_epoch_loss=2.08]\n",
            "100%|██████████| 50/50 [00:05<00:00,  9.39it/s, epoch=11/100, avg_epoch_loss=2.15]\n",
            "100%|██████████| 50/50 [00:04<00:00, 10.74it/s, epoch=12/100, avg_epoch_loss=1.88]\n",
            "100%|██████████| 50/50 [00:04<00:00, 10.65it/s, epoch=13/100, avg_epoch_loss=2]\n",
            "100%|██████████| 50/50 [00:04<00:00, 10.72it/s, epoch=14/100, avg_epoch_loss=2.32]\n",
            "100%|██████████| 50/50 [00:04<00:00, 10.82it/s, epoch=15/100, avg_epoch_loss=2.04]\n",
            "100%|██████████| 50/50 [00:04<00:00, 10.87it/s, epoch=16/100, avg_epoch_loss=1.79]\n",
            "100%|██████████| 50/50 [00:04<00:00, 10.24it/s, epoch=17/100, avg_epoch_loss=1.73]\n",
            "100%|██████████| 50/50 [00:04<00:00, 10.89it/s, epoch=18/100, avg_epoch_loss=1.79]\n",
            "100%|██████████| 50/50 [00:04<00:00, 10.91it/s, epoch=19/100, avg_epoch_loss=1.83]\n",
            "100%|██████████| 50/50 [00:04<00:00, 10.91it/s, epoch=20/100, avg_epoch_loss=1.65]\n",
            "100%|██████████| 50/50 [00:04<00:00, 11.05it/s, epoch=21/100, avg_epoch_loss=1.62]\n",
            "100%|██████████| 50/50 [00:04<00:00, 10.62it/s, epoch=22/100, avg_epoch_loss=1.63]\n",
            "100%|██████████| 50/50 [00:04<00:00, 11.11it/s, epoch=23/100, avg_epoch_loss=1.54]\n",
            "100%|██████████| 50/50 [00:04<00:00, 10.83it/s, epoch=24/100, avg_epoch_loss=1.66]\n",
            "100%|██████████| 50/50 [00:05<00:00,  9.10it/s, epoch=25/100, avg_epoch_loss=1.58]\n",
            "100%|██████████| 50/50 [00:04<00:00, 10.54it/s, epoch=26/100, avg_epoch_loss=1.57]\n",
            "100%|██████████| 50/50 [00:04<00:00, 10.88it/s, epoch=27/100, avg_epoch_loss=1.57]\n",
            "100%|██████████| 50/50 [00:04<00:00, 10.88it/s, epoch=28/100, avg_epoch_loss=1.51]\n",
            "100%|██████████| 50/50 [00:04<00:00, 10.92it/s, epoch=29/100, avg_epoch_loss=1.5]\n",
            "100%|██████████| 50/50 [00:04<00:00, 10.77it/s, epoch=30/100, avg_epoch_loss=1.47]\n",
            "100%|██████████| 50/50 [00:04<00:00, 10.77it/s, epoch=31/100, avg_epoch_loss=1.47]\n",
            "100%|██████████| 50/50 [00:04<00:00, 10.73it/s, epoch=32/100, avg_epoch_loss=1.56]\n",
            "100%|██████████| 50/50 [00:04<00:00, 10.87it/s, epoch=33/100, avg_epoch_loss=1.61]\n",
            "100%|██████████| 50/50 [00:04<00:00, 10.73it/s, epoch=34/100, avg_epoch_loss=1.45]\n",
            "100%|██████████| 50/50 [00:04<00:00, 10.89it/s, epoch=35/100, avg_epoch_loss=1.41]\n",
            "100%|██████████| 50/50 [00:04<00:00, 10.82it/s, epoch=36/100, avg_epoch_loss=1.4]\n",
            "100%|██████████| 50/50 [00:04<00:00, 10.93it/s, epoch=37/100, avg_epoch_loss=1.38]\n",
            "100%|██████████| 50/50 [00:04<00:00, 10.61it/s, epoch=38/100, avg_epoch_loss=1.4]\n",
            "100%|██████████| 50/50 [00:04<00:00, 10.97it/s, epoch=39/100, avg_epoch_loss=1.41]\n",
            "100%|██████████| 50/50 [00:05<00:00,  9.52it/s, epoch=40/100, avg_epoch_loss=1.37]\n",
            "100%|██████████| 50/50 [00:04<00:00, 11.03it/s, epoch=41/100, avg_epoch_loss=1.5]\n",
            "100%|██████████| 50/50 [00:04<00:00, 10.87it/s, epoch=42/100, avg_epoch_loss=1.43]\n",
            "100%|██████████| 50/50 [00:04<00:00, 10.85it/s, epoch=43/100, avg_epoch_loss=1.36]\n",
            "100%|██████████| 50/50 [00:04<00:00, 10.94it/s, epoch=44/100, avg_epoch_loss=1.38]\n",
            "100%|██████████| 50/50 [00:04<00:00, 10.70it/s, epoch=45/100, avg_epoch_loss=1.41]\n",
            "100%|██████████| 50/50 [00:04<00:00, 10.79it/s, epoch=46/100, avg_epoch_loss=1.44]\n",
            "100%|██████████| 50/50 [00:04<00:00, 10.92it/s, epoch=47/100, avg_epoch_loss=1.4]\n",
            "100%|██████████| 50/50 [00:04<00:00, 10.92it/s, epoch=48/100, avg_epoch_loss=1.44]\n",
            "100%|██████████| 50/50 [00:04<00:00, 10.98it/s, epoch=49/100, avg_epoch_loss=1.36]\n",
            "100%|██████████| 50/50 [00:04<00:00, 10.97it/s, epoch=50/100, avg_epoch_loss=1.32]\n",
            "100%|██████████| 50/50 [00:04<00:00, 10.72it/s, epoch=51/100, avg_epoch_loss=1.29]\n",
            "100%|██████████| 50/50 [00:04<00:00, 10.41it/s, epoch=52/100, avg_epoch_loss=1.43]\n",
            "100%|██████████| 50/50 [00:04<00:00, 10.52it/s, epoch=53/100, avg_epoch_loss=1.38]\n",
            "100%|██████████| 50/50 [00:04<00:00, 10.61it/s, epoch=54/100, avg_epoch_loss=1.34]\n",
            "100%|██████████| 50/50 [00:04<00:00, 10.61it/s, epoch=55/100, avg_epoch_loss=1.36]\n",
            "100%|██████████| 50/50 [00:04<00:00, 10.64it/s, epoch=56/100, avg_epoch_loss=1.31]\n",
            "100%|██████████| 50/50 [00:04<00:00, 10.46it/s, epoch=57/100, avg_epoch_loss=1.32]\n",
            "100%|██████████| 50/50 [00:04<00:00, 10.19it/s, epoch=58/100, avg_epoch_loss=1.38]\n",
            "100%|██████████| 50/50 [00:04<00:00, 10.56it/s, epoch=59/100, avg_epoch_loss=1.3]\n",
            "100%|██████████| 50/50 [00:04<00:00, 11.00it/s, epoch=60/100, avg_epoch_loss=1.44]\n",
            "100%|██████████| 50/50 [00:04<00:00, 10.64it/s, epoch=61/100, avg_epoch_loss=1.33]\n",
            "100%|██████████| 50/50 [00:04<00:00, 10.90it/s, epoch=62/100, avg_epoch_loss=1.26]\n",
            "100%|██████████| 50/50 [00:04<00:00, 10.86it/s, epoch=63/100, avg_epoch_loss=1.27]\n",
            "100%|██████████| 50/50 [00:04<00:00, 10.88it/s, epoch=64/100, avg_epoch_loss=1.23]\n",
            "100%|██████████| 50/50 [00:04<00:00, 10.82it/s, epoch=65/100, avg_epoch_loss=1.26]\n",
            "100%|██████████| 50/50 [00:04<00:00, 10.75it/s, epoch=66/100, avg_epoch_loss=1.25]\n",
            "100%|██████████| 50/50 [00:04<00:00, 10.92it/s, epoch=67/100, avg_epoch_loss=1.24]\n",
            "100%|██████████| 50/50 [00:04<00:00, 10.77it/s, epoch=68/100, avg_epoch_loss=1.26]\n",
            "100%|██████████| 50/50 [00:04<00:00, 10.76it/s, epoch=69/100, avg_epoch_loss=1.28]\n",
            "100%|██████████| 50/50 [00:05<00:00,  8.86it/s, epoch=70/100, avg_epoch_loss=1.24]\n",
            "100%|██████████| 50/50 [00:04<00:00, 10.61it/s, epoch=71/100, avg_epoch_loss=1.26]\n",
            "100%|██████████| 50/50 [00:04<00:00, 10.58it/s, epoch=72/100, avg_epoch_loss=1.25]\n",
            "100%|██████████| 50/50 [00:04<00:00, 10.91it/s, epoch=73/100, avg_epoch_loss=1.26]\n",
            "100%|██████████| 50/50 [00:04<00:00, 10.63it/s, epoch=74/100, avg_epoch_loss=1.25]\n",
            "100%|██████████| 50/50 [00:04<00:00, 10.97it/s, epoch=75/100, avg_epoch_loss=1.22]\n",
            "100%|██████████| 50/50 [00:04<00:00, 10.77it/s, epoch=76/100, avg_epoch_loss=1.19]\n",
            "100%|██████████| 50/50 [00:04<00:00, 10.76it/s, epoch=77/100, avg_epoch_loss=1.21]\n",
            "100%|██████████| 50/50 [00:04<00:00, 10.91it/s, epoch=78/100, avg_epoch_loss=1.19]\n",
            "100%|██████████| 50/50 [00:04<00:00, 10.70it/s, epoch=79/100, avg_epoch_loss=1.21]\n",
            "100%|██████████| 50/50 [00:04<00:00, 11.03it/s, epoch=80/100, avg_epoch_loss=1.2]\n",
            "100%|██████████| 50/50 [00:04<00:00, 10.88it/s, epoch=81/100, avg_epoch_loss=1.24]\n",
            "100%|██████████| 50/50 [00:04<00:00, 10.86it/s, epoch=82/100, avg_epoch_loss=1.23]\n",
            "100%|██████████| 50/50 [00:04<00:00, 10.83it/s, epoch=83/100, avg_epoch_loss=1.25]\n",
            "100%|██████████| 50/50 [00:04<00:00, 10.93it/s, epoch=84/100, avg_epoch_loss=1.16]\n",
            "100%|██████████| 50/50 [00:04<00:00, 10.99it/s, epoch=85/100, avg_epoch_loss=1.23]\n",
            "100%|██████████| 50/50 [00:04<00:00, 11.03it/s, epoch=86/100, avg_epoch_loss=1.2]\n",
            "100%|██████████| 50/50 [00:04<00:00, 11.01it/s, epoch=87/100, avg_epoch_loss=1.21]\n",
            "100%|██████████| 50/50 [00:04<00:00, 10.84it/s, epoch=88/100, avg_epoch_loss=1.2]\n",
            "100%|██████████| 50/50 [00:04<00:00, 10.85it/s, epoch=89/100, avg_epoch_loss=1.23]\n",
            "100%|██████████| 50/50 [00:04<00:00, 10.82it/s, epoch=90/100, avg_epoch_loss=1.21]\n",
            "100%|██████████| 50/50 [00:04<00:00, 10.92it/s, epoch=91/100, avg_epoch_loss=1.21]\n",
            "100%|██████████| 50/50 [00:04<00:00, 10.85it/s, epoch=92/100, avg_epoch_loss=1.19]\n",
            "100%|██████████| 50/50 [00:04<00:00, 10.87it/s, epoch=93/100, avg_epoch_loss=1.17]\n",
            "100%|██████████| 50/50 [00:04<00:00, 11.08it/s, epoch=94/100, avg_epoch_loss=1.2]\n",
            "100%|██████████| 50/50 [00:04<00:00, 10.99it/s, epoch=95/100, avg_epoch_loss=1.21]\n",
            "100%|██████████| 50/50 [00:04<00:00, 10.90it/s, epoch=96/100, avg_epoch_loss=1.16]\n",
            "100%|██████████| 50/50 [00:04<00:00, 10.72it/s, epoch=97/100, avg_epoch_loss=1.18]\n",
            "100%|██████████| 50/50 [00:04<00:00, 10.82it/s, epoch=98/100, avg_epoch_loss=1.18]\n",
            "100%|██████████| 50/50 [00:04<00:00, 11.05it/s, epoch=99/100, avg_epoch_loss=1.15]\n",
            "100%|██████████| 50/50 [00:04<00:00, 10.90it/s, epoch=100/100, avg_epoch_loss=1.17]\n"
          ]
        }
      ]
    },
    {
      "cell_type": "code",
      "source": [
        "from gluonts.evaluation import make_evaluation_predictions"
      ],
      "metadata": {
        "id": "YEU84TwwKBEe"
      },
      "execution_count": 30,
      "outputs": []
    },
    {
      "cell_type": "code",
      "source": [
        "forcast_it, ts_it = make_evaluation_predictions(\n",
        "    dataset = test_data,\n",
        "    predictor = deepAR_model_predictor,\n",
        "    num_samples = 100\n",
        ")"
      ],
      "metadata": {
        "id": "1-C_dn-YKBA-"
      },
      "execution_count": 31,
      "outputs": []
    },
    {
      "cell_type": "code",
      "source": [
        "forecasts = list(forcast_it)\n",
        "tss = list(ts_it)"
      ],
      "metadata": {
        "id": "08k1jjOuKA8v"
      },
      "execution_count": null,
      "outputs": []
    },
    {
      "cell_type": "code",
      "source": [
        "ts_entry = tss[0]\n",
        "np.array(ts_entry[:5]).reshape(-1,)"
      ],
      "metadata": {
        "colab": {
          "base_uri": "https://localhost:8080/"
        },
        "id": "CDY9RkDVLzGc",
        "outputId": "201c5836-fbce-4f99-a71c-bb68e9c48fca"
      },
      "execution_count": 35,
      "outputs": [
        {
          "output_type": "execute_result",
          "data": {
            "text/plain": [
              "array([26.77, 27.4 , 27.68, 28.11, 27.74], dtype=float32)"
            ]
          },
          "metadata": {},
          "execution_count": 35
        }
      ]
    },
    {
      "cell_type": "code",
      "source": [
        "forecast_entry = forecasts[0]"
      ],
      "metadata": {
        "id": "9xuKkTQbNOBx"
      },
      "execution_count": 36,
      "outputs": []
    },
    {
      "cell_type": "code",
      "source": [
        "def plot_prob_forecasts(ts_entry, forecast_entry):\n",
        "    plot_length = 5\n",
        "    prediction_intervals = (50.0, 90.0)\n",
        "    legend = [\"observations\", \"median prediction\"] + [f\"{k}% prediction interval\" for k in prediction_intervals][::-1]\n",
        "\n",
        "    fig, ax = plt.subplots(1, 1, figsize=(10, 7))\n",
        "    ts_entry[-plot_length:].plot(ax=ax)  \n",
        "    forecast_entry.plot(prediction_intervals=prediction_intervals, color='g')\n",
        "    plt.grid(which=\"both\")\n",
        "    plt.legend(legend, loc=\"upper left\")"
      ],
      "metadata": {
        "id": "QurIUtl-LzEU"
      },
      "execution_count": 38,
      "outputs": []
    },
    {
      "cell_type": "code",
      "source": [
        "plot_prob_forecasts(ts_entry, forecast_entry)"
      ],
      "metadata": {
        "colab": {
          "base_uri": "https://localhost:8080/",
          "height": 452
        },
        "id": "54oK60QoLzBw",
        "outputId": "78475467-dd3e-4207-8331-4ab71d956d54"
      },
      "execution_count": 39,
      "outputs": [
        {
          "output_type": "display_data",
          "data": {
            "text/plain": [
              "<Figure size 720x504 with 1 Axes>"
            ],
            "image/png": "[encoded data removed]"
          },
          "metadata": {
            "needs_background": "light"
          }
        }
      ]
    },
    {
      "cell_type": "code",
      "source": [
        "forecast_entry.samples.shape"
      ],
      "metadata": {
        "colab": {
          "base_uri": "https://localhost:8080/"
        },
        "id": "4G103z5DNzFg",
        "outputId": "206da265-9ec0-44e0-a9e7-19d1fbc50eba"
      },
      "execution_count": 40,
      "outputs": [
        {
          "output_type": "execute_result",
          "data": {
            "text/plain": [
              "(100, 5)"
            ]
          },
          "metadata": {},
          "execution_count": 40
        }
      ]
    },
    {
      "cell_type": "code",
      "source": [
        "forecast_entry.mean"
      ],
      "metadata": {
        "colab": {
          "base_uri": "https://localhost:8080/"
        },
        "id": "omKWgtx3Ny5g",
        "outputId": "93d48267-443e-4acb-9f2b-872b6d455baa"
      },
      "execution_count": 41,
      "outputs": [
        {
          "output_type": "execute_result",
          "data": {
            "text/plain": [
              "array([332.12732, 334.79785, 336.8216 , 337.47986, 337.21866],\n",
              "      dtype=float32)"
            ]
          },
          "metadata": {},
          "execution_count": 41
        }
      ]
    },
    {
      "cell_type": "code",
      "source": [
        "forecast_entry.quantile(0.7)"
      ],
      "metadata": {
        "colab": {
          "base_uri": "https://localhost:8080/"
        },
        "id": "RYMKErujNy2i",
        "outputId": "5740b99c-efef-4f49-8d78-ad6355ff0dd8"
      },
      "execution_count": 42,
      "outputs": [
        {
          "output_type": "execute_result",
          "data": {
            "text/plain": [
              "array([337.0347 , 342.20163, 342.4345 , 345.78183, 348.077  ],\n",
              "      dtype=float32)"
            ]
          },
          "metadata": {},
          "execution_count": 42
        }
      ]
    },
    {
      "cell_type": "code",
      "source": [
        ""
      ],
      "metadata": {
        "id": "7sqmArQkOVJy"
      },
      "execution_count": null,
      "outputs": []
    },
    {
      "cell_type": "code",
      "source": [
        ""
      ],
      "metadata": {
        "id": "LLl40_vGOVGw"
      },
      "execution_count": null,
      "outputs": []
    }
  ]
}